{
 "cells": [
  {
   "cell_type": "code",
   "execution_count": null,
   "metadata": {},
   "outputs": [],
   "source": [
    "import pandas as pd\n",
    "import numpy as np\n",
    "import seaborn as sns\n",
    "import matplotlib.pyplot as plt\n",
    "\n",
    "# for jupyter notebook\n",
    "pd.options.mode.chained_assignment = None  # default='warn'"
   ]
  },
  {
   "cell_type": "markdown",
   "metadata": {},
   "source": [
    "# Search\n",
    "\n",
    "Search for right ITEMID with regex"
   ]
  },
  {
   "cell_type": "code",
   "execution_count": null,
   "metadata": {},
   "outputs": [],
   "source": [
    "# read in data to pandas\n",
    "df = pd.read_csv('mimic-iii-clinical-database-1.4/D_ITEMS.csv.gz')"
   ]
  },
  {
   "cell_type": "code",
   "execution_count": null,
   "metadata": {
    "scrolled": true
   },
   "outputs": [],
   "source": [
    "df['LABEL'] = df['LABEL'].str.lower()\n",
    "\n",
    "df[df['LABEL'].str.contains(\"_*weight*\", na=False)]"
   ]
  },
  {
   "cell_type": "markdown",
   "metadata": {},
   "source": [
    "List up labels for certain ITEMID"
   ]
  },
  {
   "cell_type": "code",
   "execution_count": null,
   "metadata": {},
   "outputs": [],
   "source": [
    "df[df['ITEMID'].isin([920, 1394, 4187, 3486, 3485, 4188, 226707, 226730])]"
   ]
  },
  {
   "cell_type": "markdown",
   "metadata": {},
   "source": [
    "# ITEMID\n",
    "\n",
    "My choosen ITEMID, some from mimic GitHub page other found with regex"
   ]
  },
  {
   "cell_type": "code",
   "execution_count": null,
   "metadata": {},
   "outputs": [],
   "source": [
    "df = pd.read_csv('mimic-iii-clinical-database-1.4/CHARTEVENTS.csv.gz')\n",
    "\n",
    "df"
   ]
  },
  {
   "cell_type": "code",
   "execution_count": null,
   "metadata": {},
   "outputs": [],
   "source": [
    "## Take around 10-13 min, select items in check and remove those with error\n",
    "\n",
    "def makedata(name, check, minVal, maxVal):\n",
    "    df = pd.DataFrame()\n",
    "    chunksize = 10**7\n",
    "\n",
    "    for chunk in pd.read_csv('mimic-iii-clinical-database-1.4/CHARTEVENTS.csv.gz', chunksize=chunksize):\n",
    "        chunk = chunk[ (chunk['ITEMID'].isin(check)) & (chunk['ERROR'] != 1) & (chunk['VALUENUM'] > minVal) & (chunk['VALUENUM'] < maxVal)] \n",
    "        df = df.append(chunk)\n",
    "    \n",
    "    df.set_index('ROW_ID')\n",
    "    df.to_csv(name, encoding=\"utf-8\")"
   ]
  },
  {
   "cell_type": "code",
   "execution_count": null,
   "metadata": {},
   "outputs": [],
   "source": [
    "## REGEX\n",
    "\n",
    "## -- Temperature\n",
    "## ITEMID       LABEL\n",
    "## 677          temperature c (calc) -- why nt used\n",
    "\n",
    "## -- Oxygen\n",
    "## ITEMID      LABEL\n",
    "## 7146        oxygen #3\n",
    "## 228231      par-oxygen sautratuion\n",
    "\n",
    "#check = [7146, 228231]\n",
    "\n",
    "## -- Surgery\n",
    "\n",
    "\n",
    "## -- Mental status"
   ]
  },
  {
   "cell_type": "code",
   "execution_count": null,
   "metadata": {},
   "outputs": [],
   "source": [
    "# source mimic github hieght and weight\n",
    "# https://github.com/MIT-LCP/mimic-code/blob/master/concepts/demographics/HeightWeightQuery.sql\n",
    "\n",
    "## -- Height                      --> time: 10 min\n",
    "# ITEMID        LABEL\n",
    "# 920           Admit Ht\n",
    "# 4187          Length Calc Inches\n",
    "# 4188          Length in cm\n",
    "# 1394          Height Inches\n",
    "# 3485          Length Calc (cm)\n",
    "# 3486          Length in Inches\n",
    "# 226707        Height\n",
    "\n",
    "## -- Weight\n",
    "## ITEMID       LABEL\n",
    "## 762          daily weight\n",
    "## 763          admit wt\n",
    "## 3723         bith weight\n",
    "## 3580         weight kg\n",
    "## 3581         weigth lb\n",
    "## 3582         weight oz\n",
    "\n",
    "#762, 763, 3723, 3580,                     -- Weight Kg\n",
    "#3581,                                     -- Weight lb\n",
    "#3582,                                     -- Weight oz\n",
    "#920, 1394, 4187, 3486,                    -- Height inches\n",
    "#3485, 4188                                -- Height cm\n",
    "#-- Metavision\n",
    "#    , 226707 -- Height (measured in inches)\n",
    "#    , 226512 -- Admission Weight (Kg)\n",
    "\n",
    "#    -- note we intentionally ignore the below ITEMIDs in metavision\n",
    "#    -- these are duplicate data in a different unit\n",
    "#    -- , 226531 -- Admission Weight (lbs.)\n",
    "#    -- , 226730 -- Height (cm)"
   ]
  },
  {
   "cell_type": "code",
   "execution_count": null,
   "metadata": {},
   "outputs": [],
   "source": [
    "## Source mimic code GitHub\n",
    "## https://github.com/MIT-LCP/mimic-code/blob/master/concepts/firstday/vitals-first-day.sql\n",
    "\n",
    "##  -- HEART RATE\n",
    "##  211, --\"Heart Rate\"\n",
    "##  220045, --\"Heart Rate\"\n",
    "\n",
    "##  -- Systolic/diastolic\n",
    "\n",
    "##  51, --\tArterial BP [Systolic]\n",
    "##  442, --\tManual BP [Systolic]\n",
    "##  455, --\tNBP [Systolic]\n",
    "##  6701, --\tArterial BP #2 [Systolic]\n",
    "##  220179, --\tNon Invasive Blood Pressure systolic\n",
    "##  220050, --\tArterial Blood Pressure systolic\n",
    "\n",
    "##  8368, --\tArterial BP [Diastolic]\n",
    "##  8440, --\tManual BP [Diastolic]\n",
    "##  8441, --\tNBP [Diastolic]\n",
    "##  8555, --\tArterial BP #2 [Diastolic]\n",
    "##  220180, --\tNon Invasive Blood Pressure diastolic\n",
    "##  220051, --\tArterial Blood Pressure diastolic\n",
    "\n",
    "\n",
    "##  -- MEAN ARTERIAL PRESSURE\n",
    "##  456, --\"NBP Mean\"\n",
    "##  52, --\"Arterial BP Mean\"\n",
    "##  6702, --\tArterial BP Mean #2\n",
    "##  443, --\tManual BP Mean(calc)\n",
    "##  220052, --\"Arterial Blood Pressure mean\"\n",
    "##  220181, --\"Non Invasive Blood Pressure mean\"\n",
    "##  225312, --\"ART BP mean\"\n",
    "\n",
    "##  -- RESPIRATORY RATE\n",
    "##  618,--\tRespiratory Rate\n",
    "##  615,--\tResp Rate (Total)\n",
    "##  220210,--\tRespiratory Rate\n",
    "##  224690, --\tRespiratory Rate (Total)\n",
    "\n",
    "\n",
    "##  -- SPO2, peripheral\n",
    "##  646, 220277,\n",
    "\n",
    "##  -- GLUCOSE, both lab and fingerstick\n",
    "##  807,--\tFingerstick Glucose\n",
    "##  811,--\tGlucose (70-105)\n",
    "##  1529,--\tGlucose\n",
    "##  3745,--\tBloodGlucose\n",
    "##  3744,--\tBlood Glucose\n",
    "##  225664,--\tGlucose finger stick\n",
    "##  220621,--\tGlucose (serum)\n",
    "##  226537,--\tGlucose (whole blood)\n",
    "\n",
    "##  -- TEMPERATURE\n",
    "##  223762, -- \"Temperature Celsius\"\n",
    "##  676,\t-- \"Temperature C\"\n",
    "##  223761, -- \"Temperature Fahrenheit\"\n",
    "##  678 --\t\"Temperature F\""
   ]
  },
  {
   "cell_type": "markdown",
   "metadata": {},
   "source": [
    "# Make data"
   ]
  },
  {
   "cell_type": "code",
   "execution_count": null,
   "metadata": {
    "scrolled": true
   },
   "outputs": [],
   "source": [
    "%%time\n",
    "makedata(\"mimic-iii-clinical-database-1.4/vital_Height.csv\", [920, 1394, 4187, 3486, 3485, 4188, 226707], 0, 10000)"
   ]
  },
  {
   "cell_type": "code",
   "execution_count": null,
   "metadata": {},
   "outputs": [],
   "source": [
    "%%time\n",
    "makedata(\"mimic-iii-clinical-database-1.4/vital_Weight.csv\", [762, 763, 3723, 3580, 3581, 3582, 226512], 0, 10000)"
   ]
  },
  {
   "cell_type": "code",
   "execution_count": null,
   "metadata": {},
   "outputs": [],
   "source": [
    "%%time\n",
    "makedata(\"mimic-iii-clinical-database-1.4/vital_HeartRate.csv\", [211,220045], 0, 300)"
   ]
  },
  {
   "cell_type": "code",
   "execution_count": null,
   "metadata": {},
   "outputs": [],
   "source": [
    "%%time\n",
    "makedata(\"~/vital_sysBP.csv\", [51,442,455,6701,220179,220050], 0, 400)"
   ]
  },
  {
   "cell_type": "code",
   "execution_count": null,
   "metadata": {},
   "outputs": [],
   "source": [
    "%%time\n",
    "makedata(\"~/vital_diasBP.csv\", [8368,8440,8441,8555,220180,220051], 0, 300)"
   ]
  },
  {
   "cell_type": "code",
   "execution_count": null,
   "metadata": {},
   "outputs": [],
   "source": [
    "%%time\n",
    "makedata(\"~/vital_respRate.csv\", [615,618,220210,224690], 0, 70)"
   ]
  },
  {
   "cell_type": "code",
   "execution_count": null,
   "metadata": {},
   "outputs": [],
   "source": [
    "%%time\n",
    "makedata(\"~/vital_temp_F.csv\", [223761,678], 70, 120)"
   ]
  },
  {
   "cell_type": "code",
   "execution_count": null,
   "metadata": {},
   "outputs": [],
   "source": [
    "%%time\n",
    "makedata(\"~/vital_temp_C.csv\", [223762,676], 10, 50)"
   ]
  },
  {
   "cell_type": "code",
   "execution_count": null,
   "metadata": {},
   "outputs": [],
   "source": [
    "%%time\n",
    "makedata(\"~/vital_oxygen_met.csv\", [646,220277], 0, 101)"
   ]
  },
  {
   "cell_type": "code",
   "execution_count": null,
   "metadata": {},
   "outputs": [],
   "source": [
    "%%time\n",
    "makedata(\"~/vital_gluc.csv\", [807,811,1529,3745,3744,225664,220621,226537], 0, 1000000)"
   ]
  },
  {
   "cell_type": "markdown",
   "metadata": {},
   "source": [
    "Save output data since the making take long time on pc with low RAM"
   ]
  },
  {
   "cell_type": "code",
   "execution_count": null,
   "metadata": {},
   "outputs": [],
   "source": []
  },
  {
   "cell_type": "markdown",
   "metadata": {},
   "source": [
    "# Convert data"
   ]
  },
  {
   "cell_type": "code",
   "execution_count": null,
   "metadata": {},
   "outputs": [],
   "source": [
    "# method for convertion\n",
    "def convert(source, convertable, val):\n",
    "    source.loc[source['ITEMID'].isin(convertable), 'VALUE'] *= val\n",
    "    source.loc[source['ITEMID'].isin(convertable), 'VALUENUM'] *= val\n"
   ]
  },
  {
   "cell_type": "markdown",
   "metadata": {},
   "source": [
    "### make tables with average in 6 hours"
   ]
  },
  {
   "cell_type": "code",
   "execution_count": null,
   "metadata": {},
   "outputs": [],
   "source": [
    "def makeprocessdata(name_val, df, hw):\n",
    "    # groupby\n",
    "    gb = df.groupby(\"ICUSTAY_ID\")\n",
    "    \n",
    "    # iterate over the groups\n",
    "    df_new = pd.DataFrame(columns=['ICUSTAY_ID', name_val])\n",
    "    i = 0\n",
    "     \n",
    "\n",
    "    # name is the gruop name, and group is the dataframe\n",
    "    for name, group in gb:\n",
    "        if hw:\n",
    "            group['CHARTTIME'] = pd.to_datetime(group['CHARTTIME'])\n",
    "            group['INTIME'] = pd.to_datetime(group['INTIME'])\n",
    "\n",
    "            # take the difference, to calculate hours from intime\n",
    "            group['DIFF'] = (group['CHARTTIME'] - group['INTIME']).astype('timedelta64[h]')\n",
    "\n",
    "            # only takes whose with value between 6 hours\n",
    "            group = group[(group['DIFF'] >= -6.0) & (group['DIFF'] <= 6.0)]\n",
    "\n",
    "        # intialise data of lists. \n",
    "        df_new.loc[i] = [name, group['VALUENUM'].mean()]\n",
    "        i += 1\n",
    "        #data = {'ICUSTAY_ID':[name], name_val:group['VALUENUM'].mean()} \n",
    "\n",
    "        # add to DataFrame\n",
    "        #df_new = df_new.append(pd.DataFrame(data))\n",
    "    \n",
    "    print(\"SAVING...\")\n",
    "    #df_new.set_index('ICUSTAY_ID')\n",
    "    df_new.to_csv(\"~/ICU_\"+name_val+\".csv\", encoding=\"utf-8\", index=False)"
   ]
  },
  {
   "cell_type": "markdown",
   "metadata": {},
   "source": [
    "# Filter data in hours and take mean"
   ]
  },
  {
   "cell_type": "code",
   "execution_count": null,
   "metadata": {},
   "outputs": [],
   "source": [
    "def processdata(name, height, weight, temp_f):\n",
    "    print(\"------ \"+name+\" ------\")\n",
    "    df = pd.read_csv(\"~/vital_\"+name+\".csv\", encoding=\"utf-8\")\n",
    "    \n",
    "    df = df[['ICUSTAY_ID', 'ITEMID', 'CHARTTIME', 'VALUE', 'VALUENUM']]\n",
    "    \n",
    "    if height:\n",
    "        print(\"YES: HEIGTH Converting...\")\n",
    "        # Ensure that all heights are in centimeters\n",
    "        convertable = [920, 1394, 4187, 3486, 226707]\n",
    "        convert(df, convertable, 2.54)\n",
    "    \n",
    "    \n",
    "    if weight:\n",
    "        print(\"YES: WEIGTH Converting...\")\n",
    "        # Ensure that all weights are in kg and heights are in centimeters\n",
    "        convertable = [3581, 226531]\n",
    "        convert(df, convertable, 0.45359237)\n",
    "\n",
    "        convertable = [3582]\n",
    "        convert(df, convertable, 0.0283495231)\n",
    "        \n",
    "    if temp_f:\n",
    "        print(\"YES: TEMP_F Converting...\")\n",
    "        # convert F to C\n",
    "        # case when itemid in (223761,678) then (valuenum-32)/1.8 else valuenum end as valuenum\n",
    "\n",
    "        df.loc[df['ITEMID'].isin([223761,678]), 'VALUE'] = (df['VALUE'] - 32)/1.8\n",
    "        df.loc[df['ITEMID'].isin([223761,678]), 'VALUENUM'] = (df['VALUENUM'] - 32)/1.8\n",
    "\n",
    "    \n",
    "    # merge with icustays to get icustay id\n",
    "    df_los = pd.read_csv(\"~/mimic-iii-clinical-database-1.4/ICUSTAYS.csv.gz\")\n",
    "    df = pd.merge(df, df_los, on='ICUSTAY_ID', how='left')\n",
    "    \n",
    "    if height or weight:\n",
    "        print(\"MAKE: HEIGTH/WEIGHT\")\n",
    "        makeprocessdata(name, df, False)\n",
    "    else:\n",
    "        print(\"MAKE: ALL\")\n",
    "        makeprocessdata(name, df, True)    "
   ]
  },
  {
   "cell_type": "markdown",
   "metadata": {},
   "source": [
    "# Read in and process data"
   ]
  },
  {
   "cell_type": "code",
   "execution_count": null,
   "metadata": {},
   "outputs": [],
   "source": [
    "df = processdata(\"Height\", True, False, False)\n",
    "df = processdata(\"Weight\", False, True, False)"
   ]
  },
  {
   "cell_type": "code",
   "execution_count": null,
   "metadata": {},
   "outputs": [],
   "source": [
    "%%time\n",
    "## around 40 min\n",
    "\n",
    "df = processdata(\"HeartRate\", False, False, False)\n",
    "df = processdata(\"sysBP\", False, False, False)\n",
    "df = processdata(\"diasBP\", False, False, False)\n",
    "df = processdata(\"respRate\", False, False, False)\n",
    "#df = processdata(\"temp_F\", False, False, True)\n",
    "#df = processdata(\"temp_C\", False, False, False)\n",
    "df = processdata(\"oxygen_met\", False, False, False)\n",
    "df = processdata(\"gluc\", False, False, False)"
   ]
  },
  {
   "cell_type": "code",
   "execution_count": null,
   "metadata": {},
   "outputs": [],
   "source": [
    "df = pd.read_csv(\"/home/sohaib/ICU_Height.csv\", encoding=\"utf-8\")"
   ]
  },
  {
   "cell_type": "markdown",
   "metadata": {},
   "source": [
    "# Make BMI"
   ]
  },
  {
   "cell_type": "code",
   "execution_count": null,
   "metadata": {},
   "outputs": [],
   "source": [
    "# read in weight and height\n",
    "df_height = pd.read_csv(\"~/ICU_Height.csv\", encoding=\"utf-8\")\n",
    "df_weight = pd.read_csv(\"~/ICU_Weight.csv\", encoding=\"utf-8\")"
   ]
  },
  {
   "cell_type": "code",
   "execution_count": null,
   "metadata": {},
   "outputs": [],
   "source": [
    "df_bmi = pd.merge(df_weight, df_height, on='ICUSTAY_ID')"
   ]
  },
  {
   "cell_type": "code",
   "execution_count": null,
   "metadata": {},
   "outputs": [],
   "source": [
    "# calculate BMI\n",
    "def bmi(height, weight):\n",
    "    return (weight / (height*height))"
   ]
  },
  {
   "cell_type": "code",
   "execution_count": null,
   "metadata": {},
   "outputs": [],
   "source": [
    "df_bmi['BMI'] = bmi(df_bmi['Weight'], df_bmi['Height'])"
   ]
  },
  {
   "cell_type": "code",
   "execution_count": null,
   "metadata": {},
   "outputs": [],
   "source": [
    "df_bmi = df_bmi[['ICUSTAY_ID', 'BMI']]"
   ]
  },
  {
   "cell_type": "code",
   "execution_count": null,
   "metadata": {},
   "outputs": [],
   "source": [
    "df_bmi.set_index('ICUSTAY_ID')\n",
    "df_bmi.to_csv(\"~/ICU_BMI.csv\", encoding=\"utf-8\")"
   ]
  },
  {
   "cell_type": "markdown",
   "metadata": {},
   "source": [
    "# merge temp dataframes"
   ]
  },
  {
   "cell_type": "code",
   "execution_count": null,
   "metadata": {
    "scrolled": true
   },
   "outputs": [],
   "source": [
    "# read in weight and height\n",
    "df_f = pd.read_csv(\"~/ICU_temp_F.csv\", encoding=\"utf-8\")\n",
    "df_f = df_f.rename(index=str, columns={\"temp_F\": \"temp_C\"})\n",
    "df_c = pd.read_csv(\"~/ICU_temp_C.csv\", encoding=\"utf-8\")"
   ]
  },
  {
   "cell_type": "code",
   "execution_count": null,
   "metadata": {},
   "outputs": [],
   "source": [
    "df_temp = df_c.append(df_f)\n",
    "\n",
    "df_temp"
   ]
  },
  {
   "cell_type": "code",
   "execution_count": null,
   "metadata": {},
   "outputs": [],
   "source": [
    "#df_temp.set_index('ICUSTAY_ID')\n",
    "df_temp.to_csv(\"~/ICU_temp.csv\", encoding=\"utf-8\")\n",
    "\n",
    "df = processdata(\"\", True, False, False)"
   ]
  },
  {
   "cell_type": "markdown",
   "metadata": {},
   "source": [
    "# plot singel vital for one patient"
   ]
  },
  {
   "cell_type": "code",
   "execution_count": null,
   "metadata": {},
   "outputs": [],
   "source": [
    "df2['CHARTTIME'] = pd.to_datetime(df2['CHARTTIME'])\n",
    "\n",
    "df2[['VALUE','CHARTTIME']].set_index('CHARTTIME').plot()\n",
    "\n",
    "df = pd.merge(df, df2, on=\"ITEMID\")\n",
    "\n",
    "df2 = df2[df2['ICUSTAY_ID'] == 200019]\n",
    "\n",
    "df2\n",
    "\n",
    "df2['CHARTTIME'] = pd.to_datetime(df2['CHARTTIME'])\n",
    "\n",
    "df2[['VALUE','CHARTTIME']].set_index('CHARTTIME').plot()"
   ]
  }
 ],
 "metadata": {
  "kernelspec": {
   "display_name": "Python 3",
   "language": "python",
   "name": "python3"
  },
  "language_info": {
   "codemirror_mode": {
    "name": "ipython",
    "version": 3
   },
   "file_extension": ".py",
   "mimetype": "text/x-python",
   "name": "python",
   "nbconvert_exporter": "python",
   "pygments_lexer": "ipython3",
   "version": "3.7.0"
  }
 },
 "nbformat": 4,
 "nbformat_minor": 2
}
