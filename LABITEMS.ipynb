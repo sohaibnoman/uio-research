{
 "cells": [
  {
   "cell_type": "code",
   "execution_count": null,
   "metadata": {
    "scrolled": true
   },
   "outputs": [],
   "source": [
    "import pandas as pd\n",
    "import numpy as np\n",
    "import seaborn as sns\n",
    "import matplotlib.pyplot as plt\n",
    "\n",
    "# for jupyter notebook\n",
    "pd.options.mode.chained_assignment = None  # default='warn'\n",
    "\n",
    "# tables in mimic\n",
    "it_df = pd.read_csv('/home/sohaib/mimic-iii-clinical-database-1.4/LABEVENTS.csv.gz')\n",
    "df = pd.read_csv('/home/sohaib/mimic-iii-clinical-database-1.4/D_LABITEMS.csv.gz')\n",
    "\n",
    "# df.dropna(subset=['EPS'], how='all', inplace = True) "
   ]
  },
  {
   "cell_type": "code",
   "execution_count": null,
   "metadata": {
    "scrolled": true
   },
   "outputs": [],
   "source": [
    "#it_df = it_df['HADM_ID'].dropna(axis=0)\n",
    "\n",
    "it_df = it_df[np.isfinite(it_df['HADM_ID'])]\n",
    "\n",
    "it_df.to_csv(\"~/lab_items.csv\", encoding=\"utf-8\")"
   ]
  },
  {
   "cell_type": "code",
   "execution_count": null,
   "metadata": {
    "scrolled": true
   },
   "outputs": [],
   "source": [
    "it_df = pd.read_csv('~/lab_items.csv')\n",
    "df = df[['ITEMID', 'LABEL', 'FLUID', 'CATEGORY', 'LOINC_CODE']]"
   ]
  },
  {
   "cell_type": "code",
   "execution_count": null,
   "metadata": {},
   "outputs": [],
   "source": [
    "df = pd.merge(df, it_df, on='ITEMID')"
   ]
  },
  {
   "cell_type": "code",
   "execution_count": null,
   "metadata": {},
   "outputs": [],
   "source": []
  },
  {
   "cell_type": "code",
   "execution_count": null,
   "metadata": {},
   "outputs": [],
   "source": []
  },
  {
   "cell_type": "code",
   "execution_count": null,
   "metadata": {},
   "outputs": [],
   "source": [
    "%load_ext sql"
   ]
  },
  {
   "cell_type": "code",
   "execution_count": null,
   "metadata": {},
   "outputs": [],
   "source": [
    "%%sql\n",
    "\n",
    "-- ------------------------------------------------------------------\n",
    "-- Title: Extract height and weight for ICUSTAY_IDs\n",
    "-- Description: This query gets the first, minimum, and maximum weight and height\n",
    "--        for a single ICUSTAY_ID. It extracts data from the CHARTEVENTS table.\n",
    "-- MIMIC version: MIMIC-III v1.2\n",
    "-- Created by: Erin Hong, Alistair Johnson\n",
    "-- ------------------------------------------------------------------\n",
    "\n",
    "-- DROP VIEW franck.heightweight;\n",
    "-- DROP TABLE franck.heightweight;\n",
    "\n",
    "CREATE TABLE franck.heightweight\n",
    "AS\n",
    "WITH FirstVRawData AS\n",
    "  (SELECT c.charttime,\n",
    "    c.itemid,c.subject_id,c.icustay_id,\n",
    "    CASE\n",
    "      WHEN c.itemid IN (762, 763, 3723, 3580, 3581, 3582)\n",
    "      THEN 'WEIGHT'\n",
    "      WHEN c.itemid IN (920, 1394, 4187, 3486, 3485, 4188)\n",
    "      THEN 'HEIGHT'\n",
    "    END AS parameter,\n",
    "    CASE\n",
    "      WHEN c.itemid   IN (3581)\n",
    "      THEN c.valuenum * 0.45359237\n",
    "      WHEN c.itemid   IN (3582)\n",
    "      THEN c.valuenum * 0.0283495231\n",
    "      WHEN c.itemid   IN (920, 1394, 4187, 3486)\n",
    "      THEN c.valuenum * 2.54\n",
    "      ELSE c.valuenum\n",
    "    END AS valuenum\n",
    "  FROM mimiciii.chartevents c\n",
    "  WHERE c.valuenum   IS NOT NULL\n",
    "  AND ( ( c.itemid  IN (762, 763, 3723, 3580, -- Weight Kg\n",
    "    3581,                                     -- Weight lb\n",
    "    3582,                                     -- Weight oz\n",
    "    920, 1394, 4187, 3486,                    -- Height inches\n",
    "    3485, 4188                                -- Height cm\n",
    "    )\n",
    "  AND c.valuenum <> 0 )\n",
    "    ) )\n",
    "  --)\n",
    "\n",
    "  --select * from FirstVRawData\n",
    ", SingleParameters AS (\n",
    "  SELECT DISTINCT subject_id,\n",
    "         icustay_id,\n",
    "         parameter,\n",
    "         first_value(valuenum) over (partition BY subject_id, icustay_id, parameter order by charttime ROWS BETWEEN UNBOUNDED PRECEDING AND UNBOUNDED FOLLOWING) AS first_valuenum,\n",
    "         MIN(valuenum) over (partition BY subject_id, icustay_id, parameter order by charttime ROWS BETWEEN UNBOUNDED PRECEDING AND UNBOUNDED FOLLOWING)         AS min_valuenum,\n",
    "         MAX(valuenum) over (partition BY subject_id, icustay_id, parameter order by charttime ROWS BETWEEN UNBOUNDED PRECEDING AND UNBOUNDED FOLLOWING)         AS max_valuenum\n",
    "    FROM FirstVRawData\n",
    "\n",
    "\n",
    "\n",
    "--   ORDER BY subject_id,\n",
    "--            icustay_id,\n",
    "--            parameter\n",
    "  )\n",
    "--select * from SingleParameters\n",
    ", PivotParameters AS (SELECT subject_id, icustay_id,\n",
    "    MAX(case when parameter = 'HEIGHT' then first_valuenum else NULL end) AS height_first,\n",
    "    MAX(case when parameter =  'HEIGHT' then min_valuenum else NULL end)   AS height_min,\n",
    "    MAX(case when parameter =  'HEIGHT' then max_valuenum else NULL end)   AS height_max,\n",
    "    MAX(case when parameter =  'WEIGHT' then first_valuenum else NULL end) AS weight_first,\n",
    "    MAX(case when parameter =  'WEIGHT' then min_valuenum else NULL end)   AS weight_min,\n",
    "    MAX(case when parameter =  'WEIGHT' then max_valuenum else NULL end)   AS weight_max\n",
    "  FROM SingleParameters\n",
    "  GROUP BY subject_id,\n",
    "    icustay_id\n",
    "  )\n",
    "--select * from PivotParameters\n",
    "SELECT f.icustay_id,\n",
    "  f.subject_id,\n",
    "  ROUND( cast(f.height_first as numeric), 2) AS height_first,\n",
    "  ROUND(cast(f.height_min as numeric),2) AS height_min,\n",
    "  ROUND(cast(f.height_max as numeric),2) AS height_max,\n",
    "  ROUND(cast(f.weight_first as numeric), 2) AS weight_first,\n",
    "  ROUND(cast(f.weight_min as numeric), 2)   AS weight_min,\n",
    "  ROUND(cast(f.weight_max as numeric), 2)   AS weight_max\n",
    "\n",
    "FROM PivotParameters f\n",
    "ORDER BY subject_id, icustay_id;\n",
    "\n",
    "--COMMENT ON MATERIALIZED VIEW mimiciii.icustay_detail IS\n",
    "-- '\n",
    "--   Expands the table \"ICUSTAYEVENTS\" to show:\n",
    "-- ​\n",
    "--      +  Each ICU stay is order by the column HOSPITAL_ICUSTAY_SEQ per\n",
    "--         hospitalization\n",
    "--      +  Each ICU stay is order by the column ICUSTAY_SEQ\n",
    "--      +  The first and last ICU stays per hospitalization\n",
    "--      +  First/last hospitalizations\n",
    "--      +  The icu expiration flag is assigned to the last icu_stay in the last\n",
    "--         hospitalization.\n",
    "--  ';\n",
    "\n",
    "--COMMENT ON COLUMN mimic2v26.icustay_detail.subject_id is 'Unique subject identifier';\n",
    "--COMMENT ON COLUMN mimic2v26.icustay_detail.gender is 'Subject''s gender \"M\" or \"F\"';\n",
    "--COMMENT ON COLUMN mimic2v26.icustay_detail.dob is 'Subject''s date of birth';\n",
    "--COMMENT ON COLUMN mimic2v26.icustay_detail.icustay_id is 'Unique ICU stay identifier';\n",
    "--COMMENT ON COLUMN mimic2v26.icustay_detail.height is 'The first entered height of the patient';\n",
    "--COMMENT ON COLUMN mimic2v26.icustay_detail.weight_first is 'The first entered weight of the patient';\n",
    "--COMMENT ON COLUMN mimic2v26.icustay_detail.weight_max is 'The maximum entered weight of the patient';\n",
    "--COMMENT ON COLUMN mimic2v26.icustay_detail.weight_min is 'The minimum entered weight of the patient';\n",
    "\n",
    "\n",
    "--execute DBMS_SNAPSHOT.REFRESH( 'mimiciii.icustay_detail','c');\n",
    "--execute DBMS_SNAPSHOT.REFRESH( 'mimiciii.d_chartitems_detail','c');\n",
    "--execute DBMS_SNAPSHOT.REFRESH( 'mimiciii.icustay_days','c');\n",
    "\n",
    "\n",
    "SELECT * FROM franck.heightweight LIMIT 100;"
   ]
  },
  {
   "cell_type": "code",
   "execution_count": null,
   "metadata": {},
   "outputs": [],
   "source": [
    "df = pd.read_csv('/home/sohaib/mimic-iii-clinical-database-1.4/D_ITEMS.csv.gz')\n",
    "\n",
    "df = df[df['LABEL'] == \"WEIGHT\"]"
   ]
  },
  {
   "cell_type": "code",
   "execution_count": null,
   "metadata": {},
   "outputs": [],
   "source": []
  },
  {
   "cell_type": "code",
   "execution_count": null,
   "metadata": {},
   "outputs": [],
   "source": []
  }
 ],
 "metadata": {
  "kernelspec": {
   "display_name": "Python 3",
   "language": "python",
   "name": "python3"
  },
  "language_info": {
   "codemirror_mode": {
    "name": "ipython",
    "version": 3
   },
   "file_extension": ".py",
   "mimetype": "text/x-python",
   "name": "python",
   "nbconvert_exporter": "python",
   "pygments_lexer": "ipython3",
   "version": "3.7.0"
  }
 },
 "nbformat": 4,
 "nbformat_minor": 2
}
