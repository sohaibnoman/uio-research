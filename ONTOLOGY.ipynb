{
 "cells": [
  {
   "cell_type": "code",
   "execution_count": null,
   "metadata": {},
   "outputs": [],
   "source": [
    "import pandas as pd\n",
    "import numpy as np\n",
    "from tqdm import tqdm\n",
    "\n",
    "tqdm.pandas()"
   ]
  },
  {
   "cell_type": "code",
   "execution_count": null,
   "metadata": {},
   "outputs": [],
   "source": [
    "df = pd.read_csv('mimic-iii-clinical-database-1.4/DIAG_ROWS.csv', dtype='str')\n",
    "print(\"Unique HADM_ID: \", len(df['HADM_ID'].unique()))\n",
    "\n",
    "df.head()"
   ]
  },
  {
   "cell_type": "code",
   "execution_count": null,
   "metadata": {},
   "outputs": [],
   "source": [
    "len(df[df['DISEASES AND INJURIES'] == '42731'])"
   ]
  },
  {
   "cell_type": "code",
   "execution_count": null,
   "metadata": {},
   "outputs": [],
   "source": [
    "ICD9 = pd.read_csv('ICD9_CODES.csv')\n",
    "\n",
    "ICD9[ICD9['1'] == '401']"
   ]
  },
  {
   "cell_type": "code",
   "execution_count": null,
   "metadata": {
    "scrolled": true
   },
   "outputs": [],
   "source": [
    "def encode(name):\n",
    "    # count values and calculate info_content for leaf child\n",
    "    IC = pd.DataFrame(df[name].value_counts()).rename(columns={name: \"Frekvens\"})\n",
    "    IC['0'] = IC.index\n",
    "    IC['Total rows'] = df[name].size\n",
    "    IC['Probability'] = IC['Frekvens']/df[name].size\n",
    "    IC['IC'] = - np.log10(IC['Probability'])\n",
    "    \n",
    "    # get parents\n",
    "    ICD9_P = ICD9[ICD9['LABEL'] == name]\n",
    "    parents = ICD9_P[ICD9_P['0'].isin(df[name])]\n",
    "    gb = parents.groupby('1')\n",
    "    \n",
    "    # calculate the IC for each parent based on child\n",
    "    for parent, group in tqdm(gb):\n",
    "        \n",
    "        group = pd.merge(group, IC, on='0', how='left')\n",
    "        val = np.sum(group['IC'])\n",
    "        \n",
    "        if (parent == '401'):\n",
    "            print(group)\n",
    "            print(val)\n",
    "    \n",
    "        IC.loc[IC['0'].isin(group['0']), 'PARENT_IC'] = val\n",
    "        IC.loc[IC['0'].isin(group['0']), 'INDEX'] = range(1, len(group.index)+1)\n",
    "    \n",
    "    # encode with added cnstant\n",
    "    IC['Constant'] = 0.1\n",
    "    IC['ENCODE'] = IC['PARENT_IC'] + IC['Constant']*IC['INDEX']\n",
    "    \n",
    "    IC = IC.rename(columns={'0':name})\n",
    "    return IC\n",
    "    "
   ]
  },
  {
   "cell_type": "code",
   "execution_count": null,
   "metadata": {},
   "outputs": [],
   "source": [
    "IC_DIS = encode('DISEASES AND INJURIES')\n",
    "IC_EXT = encode('SUPPLEMENTARY CLASSIFICATION OF EXTERNAL CAUSES OF INJURY AND POISONING')\n",
    "IC_FACT = encode('SUPPLEMENTARY CLASSIFICATION OF FACTORS INFLUENCING HEALTH STATUS AND CONTACT WITH HEALTH SERVICES')\n",
    "IC_SYMP = encode('SYMPTOMS, SIGNS, AND ILL-DEFINED CONDITIONS')"
   ]
  },
  {
   "cell_type": "code",
   "execution_count": null,
   "metadata": {
    "scrolled": true
   },
   "outputs": [],
   "source": [
    "df_merge = IC_DIS[['DISEASES AND INJURIES', 'ENCODE']]\n",
    "df = pd.merge(df, df_merge, on='DISEASES AND INJURIES', how='left')\n",
    "\n",
    "df_merge = IC_SYMP[['SYMPTOMS, SIGNS, AND ILL-DEFINED CONDITIONS', 'ENCODE']]\n",
    "df = pd.merge(df, df_merge, on='SYMPTOMS, SIGNS, AND ILL-DEFINED CONDITIONS', how='left')\n",
    "\n",
    "df_merge = IC_FACT[['SUPPLEMENTARY CLASSIFICATION OF FACTORS INFLUENCING HEALTH STATUS AND CONTACT WITH HEALTH SERVICES', 'ENCODE']]\n",
    "df = pd.merge(df, df_merge, on='SUPPLEMENTARY CLASSIFICATION OF FACTORS INFLUENCING HEALTH STATUS AND CONTACT WITH HEALTH SERVICES', how='left')\n",
    "\n",
    "df_merge = IC_EXT[['SUPPLEMENTARY CLASSIFICATION OF EXTERNAL CAUSES OF INJURY AND POISONING', 'ENCODE']]\n",
    "df = pd.merge(df, df_merge, on='SUPPLEMENTARY CLASSIFICATION OF EXTERNAL CAUSES OF INJURY AND POISONING', how='left')\n",
    "\n",
    "df.head()"
   ]
  },
  {
   "cell_type": "code",
   "execution_count": null,
   "metadata": {
    "scrolled": true
   },
   "outputs": [],
   "source": [
    "IC_DIS[IC_DIS['DISEASES AND INJURIES'].isin(['4011', '4010', '4019'])]"
   ]
  },
  {
   "cell_type": "code",
   "execution_count": null,
   "metadata": {},
   "outputs": [],
   "source": [
    "IC_DIS[IC_DIS['DISEASES AND INJURIES'] == '0389']"
   ]
  },
  {
   "cell_type": "code",
   "execution_count": null,
   "metadata": {},
   "outputs": [],
   "source": [
    "df.to_csv('ENC.csv', index=False)"
   ]
  },
  {
   "cell_type": "code",
   "execution_count": null,
   "metadata": {},
   "outputs": [],
   "source": [
    "IC_DIS"
   ]
  },
  {
   "cell_type": "code",
   "execution_count": null,
   "metadata": {},
   "outputs": [],
   "source": []
  }
 ],
 "metadata": {
  "kernelspec": {
   "display_name": "Python 3",
   "language": "python",
   "name": "python3"
  },
  "language_info": {
   "codemirror_mode": {
    "name": "ipython",
    "version": 3
   },
   "file_extension": ".py",
   "mimetype": "text/x-python",
   "name": "python",
   "nbconvert_exporter": "python",
   "pygments_lexer": "ipython3",
   "version": "3.7.0"
  }
 },
 "nbformat": 4,
 "nbformat_minor": 2
}
