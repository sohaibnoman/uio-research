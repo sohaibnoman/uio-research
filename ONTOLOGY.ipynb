{
 "cells": [
  {
   "cell_type": "code",
   "execution_count": null,
   "metadata": {},
   "outputs": [],
   "source": [
    "import pandas as pd\n",
    "import numpy as np\n",
    "from tqdm import tqdm\n",
    "\n",
    "tqdm.pandas()"
   ]
  },
  {
   "cell_type": "code",
   "execution_count": null,
   "metadata": {
    "scrolled": true
   },
   "outputs": [],
   "source": [
    "df = pd.read_csv('mimic-iii-clinical-database-1.4/DIAG_ROWS.csv', dtype='str')\n",
    "df = df.dropna()\n",
    "df.head()"
   ]
  },
  {
   "cell_type": "code",
   "execution_count": null,
   "metadata": {
    "scrolled": true
   },
   "outputs": [],
   "source": [
    "def encode(name):\n",
    "    # count values and calculate info_content for leaf child\n",
    "    IC = pd.DataFrame(df[name].value_counts()).rename(columns={name: \"COUNT\"})\n",
    "    IC['0'] = IC.index\n",
    "    IC['IC'] = - np.log(IC['COUNT']/df[name].size)\n",
    "    \n",
    "    # get parents\n",
    "    ICD9 = pd.read_csv('ICD9_CODES.csv')\n",
    "    ICD9 = ICD9[ICD9['LABEL'] == name]\n",
    "    \n",
    "    parents = ICD9[ICD9['0'].isin(df[name])]\n",
    "    gb = parents.groupby('1')\n",
    "    \n",
    "    # calculate the IC for each parent based on child\n",
    "    for parent, group in tqdm(gb):\n",
    "        group = pd.merge(group, IC, on='0', how='left')\n",
    "        val = np.sum(group['IC'])\n",
    "    \n",
    "        IC.loc[IC['0'].isin(group['0']), 'PARENT_IC'] = val\n",
    "        IC.loc[IC['0'].isin(group['0']), 'INDEX'] = range(1, len(group.index)+1)\n",
    "    \n",
    "    # encode with added cnstant\n",
    "    constant = 0.00001\n",
    "    IC['ENCODE'] = IC['PARENT_IC'] + constant*IC['INDEX']\n",
    "    return IC\n",
    "    "
   ]
  },
  {
   "cell_type": "code",
   "execution_count": null,
   "metadata": {},
   "outputs": [],
   "source": [
    "IC_DIS = encode('DISEASES AND INJURIES')\n",
    "IC_EXT = encode('SUPPLEMENTARY CLASSIFICATION OF EXTERNAL CAUSES OF INJURY AND POISONING')\n",
    "IC_FACT = encode('SUPPLEMENTARY CLASSIFICATION OF FACTORS INFLUENCING HEALTH STATUS AND CONTACT WITH HEALTH SERVICES')\n",
    "IC_SYMP = encode('SYMPTOMS, SIGNS, AND ILL-DEFINED CONDITIONS')"
   ]
  },
  {
   "cell_type": "code",
   "execution_count": null,
   "metadata": {
    "scrolled": true
   },
   "outputs": [],
   "source": [
    "IC_DIS.to_csv('ICD_DIS_ENCODING.csv', index=False)\n",
    "IC_EXT.to_csv('ICD_EXT_ENCODING.csv', index=False)\n",
    "IC_FACT.to_csv('ICD_FACT_ENCODING.csv', index=False)\n",
    "IC_SYMP.to_csv('ICD_SYMP_ENCODING.csv', index=False)"
   ]
  },
  {
   "cell_type": "code",
   "execution_count": null,
   "metadata": {},
   "outputs": [],
   "source": []
  }
 ],
 "metadata": {
  "kernelspec": {
   "display_name": "Python 3",
   "language": "python",
   "name": "python3"
  },
  "language_info": {
   "codemirror_mode": {
    "name": "ipython",
    "version": 3
   },
   "file_extension": ".py",
   "mimetype": "text/x-python",
   "name": "python",
   "nbconvert_exporter": "python",
   "pygments_lexer": "ipython3",
   "version": "3.7.0"
  }
 },
 "nbformat": 4,
 "nbformat_minor": 2
}
