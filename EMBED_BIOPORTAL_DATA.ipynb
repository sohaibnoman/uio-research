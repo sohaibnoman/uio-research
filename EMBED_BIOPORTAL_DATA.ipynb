{
 "cells": [
  {
   "cell_type": "code",
   "execution_count": null,
   "metadata": {},
   "outputs": [],
   "source": [
    "import pandas as pd\n",
    "import numpy as np\n",
    "from tqdm import tqdm\n",
    "\n",
    "tqdm.pandas()"
   ]
  },
  {
   "cell_type": "markdown",
   "metadata": {},
   "source": [
    "# (issue) with procedures table\n",
    "\n",
    "* If ex. 4333 is in both dictionarys with procedure and diagnose label this will either be repeated or overwritten\n",
    "* 331 is an example of a code repeated in procedure dictionary with different labels, so again wil both be repreated or overwritten"
   ]
  },
  {
   "cell_type": "code",
   "execution_count": null,
   "metadata": {
    "scrolled": true
   },
   "outputs": [],
   "source": [
    "df_proc = pd.read_csv('mimic-iii-clinical-database-1.4/PROCEDURES_ICD.csv.gz')\n",
    "df_diag  = pd.read_csv('mimic-iii-clinical-database-1.4/DIAGNOSES_ICD.csv.gz') "
   ]
  },
  {
   "cell_type": "code",
   "execution_count": null,
   "metadata": {},
   "outputs": [],
   "source": [
    "df_proc.head()"
   ]
  },
  {
   "cell_type": "code",
   "execution_count": null,
   "metadata": {},
   "outputs": [],
   "source": [
    "df_diag.head()"
   ]
  },
  {
   "cell_type": "markdown",
   "metadata": {},
   "source": [
    "# label the proedures with help of ICD9_CODES from bioportal\n",
    "\n",
    "some of the codes in procedure table contain diseases codes as from the website\n",
    "\n",
    "https://www.findacode.com/search/search.php?str=3601\n",
    "\n",
    "we can find the codes and se that exp. 4441 is both in procedures and in diseases, but 360.1 is only in diseases which we have in the procedures table\n",
    "\n",
    "also 374 is in different catgeory both in procedure and in disease depending on which volume of the icd9 is used"
   ]
  },
  {
   "cell_type": "code",
   "execution_count": null,
   "metadata": {},
   "outputs": [],
   "source": [
    "ICD9_CODES = pd.read_csv('ICD9_PROC_CODE.csv')\n",
    "ICD9_CODES = ICD9_CODES.astype(str)\n",
    "\n",
    "ICD9_CODES.head()"
   ]
  },
  {
   "cell_type": "code",
   "execution_count": null,
   "metadata": {},
   "outputs": [],
   "source": [
    "ICD9_CODES[ICD9_CODES['0'] == '360.1']"
   ]
  },
  {
   "cell_type": "code",
   "execution_count": null,
   "metadata": {},
   "outputs": [],
   "source": [
    "ICD9_LABEL = {\n",
    "    '001-999.99': 'DISEASES AND INJURIES',\n",
    "    '00-99.99': 'PROCEDURES',\n",
    "    'E000-E999.9':'SUPPLEMENTARY CLASSIFICATION OF EXTERNAL CAUSES OF INJURY AND POISONING',\n",
    "    'V01-V91.99':'SUPPLEMENTARY CLASSIFICATION OF FACTORS INFLUENCING HEALTH STATUS AND CONTACT WITH HEALTH SERVICES',\n",
    "    'T051': 'Event',\n",
    "    'T071': 'Entity'}"
   ]
  },
  {
   "cell_type": "code",
   "execution_count": null,
   "metadata": {
    "scrolled": true
   },
   "outputs": [],
   "source": [
    "def getcode(code):\n",
    "    # find row \n",
    "    row = ICD9_CODES[ICD9_CODES['0'].str.replace(\".\",\"\") == str(code)]\n",
    "\n",
    "    if row.empty:\n",
    "        return 'ERROR'\n",
    "\n",
    "    label = ICD9_LABEL[row['6'].values[0]]\n",
    "    return label"
   ]
  },
  {
   "cell_type": "code",
   "execution_count": null,
   "metadata": {
    "scrolled": true
   },
   "outputs": [],
   "source": [
    "# map the data\n",
    "df_proc['Type'] = df_proc['ICD9_CODE'].progress_map(lambda x: getcode(x))"
   ]
  },
  {
   "cell_type": "code",
   "execution_count": null,
   "metadata": {},
   "outputs": [],
   "source": [
    "ICD9_CODES_DIS = pd.read_csv('ICD9_DIS_CODE.csv')\n",
    "ICD9_CODES_SE = pd.read_csv('ICD9_SUPP_EXT_CODE.csv')\n",
    "ICD9_CODES_SF = pd.read_csv('ICD9_SUPP_FACT_CODE.csv')\n",
    "\n",
    "ICD9_CODES = ICD9_CODES_DIS.append(ICD9_CODES_SE, ignore_index=True)\n",
    "ICD9_CODES = ICD9_CODES.append(ICD9_CODES_SF, ignore_index=True)\n",
    "ICD9_CODES = ICD9_CODES.astype(str)\n",
    "\n",
    "# map the data\n",
    "df_diag['Type'] = df_diag['ICD9_CODE'].progress_apply(lambda x: getcode(x))"
   ]
  },
  {
   "cell_type": "code",
   "execution_count": null,
   "metadata": {},
   "outputs": [],
   "source": [
    "df_proc.to_csv('mimic-iii-clinical-database-1.4/PROC_LABELD.csv')\n",
    "df_diag.to_csv('mimic-iii-clinical-database-1.4/DIAG_LABELD.csv')"
   ]
  },
  {
   "cell_type": "markdown",
   "metadata": {},
   "source": [
    "## Take care of Errors\n",
    "\n",
    "1. Database where error are given, from the matched\n",
    "2. Database where the errors are removed"
   ]
  },
  {
   "cell_type": "code",
   "execution_count": null,
   "metadata": {
    "scrolled": true
   },
   "outputs": [],
   "source": [
    "df_proc = pd.read_csv('mimic-iii-clinical-database-1.4/PROC_LABELD.csv')\n",
    "df_diag = pd.read_csv('mimic-iii-clinical-database-1.4/DIAG_LABELD.csv')"
   ]
  },
  {
   "cell_type": "code",
   "execution_count": null,
   "metadata": {},
   "outputs": [],
   "source": [
    "# removew errors \n",
    "df_proc = df_proc[df_proc['Type'] != 'ERROR']\n",
    "df_diag = df_diag[df_diag['Type'] != 'ERROR']\n",
    "\n",
    "# append them togheter\n",
    "df = df_diag.append(df_proc, ignore_index=True)"
   ]
  },
  {
   "cell_type": "code",
   "execution_count": null,
   "metadata": {
    "scrolled": true
   },
   "outputs": [],
   "source": [
    "df"
   ]
  },
  {
   "cell_type": "code",
   "execution_count": null,
   "metadata": {},
   "outputs": [],
   "source": [
    "# Filter the errors"
   ]
  },
  {
   "cell_type": "code",
   "execution_count": null,
   "metadata": {},
   "outputs": [],
   "source": [
    "# ... to be continue"
   ]
  },
  {
   "cell_type": "code",
   "execution_count": null,
   "metadata": {
    "scrolled": true
   },
   "outputs": [],
   "source": [
    "## Issue how to combine mutiple andhow to handle duplicated values\n",
    "\n",
    "df = df[df['HADM_ID'] == 199993]"
   ]
  },
  {
   "cell_type": "markdown",
   "metadata": {},
   "source": [
    "## Add code type as columns to rows"
   ]
  },
  {
   "cell_type": "code",
   "execution_count": null,
   "metadata": {
    "scrolled": true
   },
   "outputs": [],
   "source": [
    "gb = df.groupby('HADM_ID')\n",
    "\n",
    "df = pd.DataFrame()\n",
    "\n",
    "for name, group in tqdm(gb):\n",
    "    \n",
    "    df_new = pd.DataFrame([np.append(group['ICD9_CODE'], name)], columns=np.append(group['Type'].values, 'HADM_ID')) \n",
    "    #print(\"Init\", df_new) \n",
    "    \n",
    "    # remove duplicates\n",
    "    df_rep = df_new.loc[:,df_new.columns.duplicated()]\n",
    "    df_new = df_new.loc[:,~df_new.columns.duplicated()]   \n",
    "    df_copy = df_new\n",
    "    \n",
    "    # add duplicates as new rows\n",
    "    #print(\"new\", df_new)\n",
    "    #print(\"rep\", df_rep)\n",
    "    #print(\"copy\", df_copy)\n",
    "    \n",
    "    for name, value in df_rep.iteritems():\n",
    "        df_add = df_copy.copy()\n",
    "        df_add[name] = value.values[0]\n",
    "        df_new = df_new.append(df_add, ignore_index=True)\n",
    "    \n",
    "    #print(\"PROD\", df_new)\n",
    "    if df.empty:\n",
    "        df = df_new\n",
    "    else:\n",
    "        df = df.append(df_new, ignore_index=True)\n",
    "    #print(\"--- Done ---\")"
   ]
  },
  {
   "cell_type": "code",
   "execution_count": null,
   "metadata": {
    "scrolled": true
   },
   "outputs": [],
   "source": [
    "df"
   ]
  },
  {
   "cell_type": "code",
   "execution_count": null,
   "metadata": {},
   "outputs": [],
   "source": [
    "df.to_csv('mimic-iii-clinical-database-1.4/DIAG_ROWS', index=False)"
   ]
  },
  {
   "cell_type": "code",
   "execution_count": null,
   "metadata": {},
   "outputs": [],
   "source": [
    "df = pd.read_csv('mimic-iii-clinical-database-1.4/DIAG_ROWS')"
   ]
  },
  {
   "cell_type": "code",
   "execution_count": null,
   "metadata": {
    "scrolled": true
   },
   "outputs": [],
   "source": [
    "# fill in nan\n",
    "df = df.fillna(\"NONE\")\n",
    "\n",
    "df"
   ]
  },
  {
   "cell_type": "code",
   "execution_count": null,
   "metadata": {},
   "outputs": [],
   "source": []
  }
 ],
 "metadata": {
  "kernelspec": {
   "display_name": "Python 3",
   "language": "python",
   "name": "python3"
  },
  "language_info": {
   "codemirror_mode": {
    "name": "ipython",
    "version": 3
   },
   "file_extension": ".py",
   "mimetype": "text/x-python",
   "name": "python",
   "nbconvert_exporter": "python",
   "pygments_lexer": "ipython3",
   "version": "3.7.0"
  }
 },
 "nbformat": 4,
 "nbformat_minor": 2
}
