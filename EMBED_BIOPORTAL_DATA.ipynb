{
 "cells": [
  {
   "cell_type": "code",
   "execution_count": null,
   "metadata": {},
   "outputs": [],
   "source": [
    "import pandas as pd\n",
    "import numpy as np\n",
    "from tqdm.autonotebook import tqdm\n",
    "\n",
    "tqdm.pandas()"
   ]
  },
  {
   "cell_type": "code",
   "execution_count": null,
   "metadata": {
    "scrolled": true
   },
   "outputs": [],
   "source": [
    "# make diagnose table with labels from mimic\n",
    "df_label = pd.read_csv('~/mimic-iii-clinical-database-1.4/D_ICD_DIAGNOSES.csv.gz')\n",
    "df_label = df_label[['ICD9_CODE', 'LONG_TITLE']]\n",
    "df_label = df_label.astype(str)\n",
    "\n",
    "df = pd.read_csv('~/mimic-iii-clinical-database-1.4/PROCEDURES_ICD.csv.gz')\n",
    "df = df.astype(str)\n",
    "df = pd.merge(df, df_label, on='ICD9_CODE', how='left')\n",
    "\n",
    "#df[df['ICD9_CODE'].isin(ICD9_CODES)]\n",
    "df"
   ]
  },
  {
   "cell_type": "code",
   "execution_count": null,
   "metadata": {},
   "outputs": [],
   "source": [
    "df_label[df_label['ICD9_CODE'] == '3404']"
   ]
  },
  {
   "cell_type": "code",
   "execution_count": null,
   "metadata": {
    "scrolled": true
   },
   "outputs": [],
   "source": [
    "ICD9_CODES = pd.read_csv('~/ICD9_CODES')\n",
    "#ICD9_CODES = ICD9_CODES[ICD9_CODES['1'].str.replace(\".\",\"\").duplicated()]\n",
    "\n",
    "#ICD9_CODES = ICD9_CODES['1'].str.replace(\".\",\"\").values\n",
    "ICD9_CODES"
   ]
  },
  {
   "cell_type": "code",
   "execution_count": null,
   "metadata": {},
   "outputs": [],
   "source": [
    "def getcode(line):\n",
    "    \n",
    "    # find row \n",
    "    row = ICD9_CODES[ICD9_CODES['0'] == line['LONG_TITLE']]\n",
    "    \n",
    "    if row.empty:\n",
    "        row = ICD9_CODES[ICD9_CODES['1'].str.replace(\".\", \"\") == line['ICD9_CODE']]\n",
    "        if row.empty:\n",
    "            return 'ERROR'\n",
    "    \n",
    "    # return value corresponding to superclass in row\n",
    "    index = pd.Series(row.values[0]).last_valid_index()\n",
    "    \n",
    "    # find last\n",
    "    label_row = ICD9_CODES[ICD9_CODES['1'] == row[str(index)].values[0]]\n",
    "    label = label_row.values[0][0]\n",
    "    \n",
    "    return label\n",
    "\n",
    "# map the data\n",
    "df['Type'] = df.progress_apply(lambda x: getcode(x), axis=1)"
   ]
  },
  {
   "cell_type": "code",
   "execution_count": null,
   "metadata": {
    "scrolled": true
   },
   "outputs": [],
   "source": [
    "df.to_csv('~/Labels_diagnose.csv')"
   ]
  },
  {
   "cell_type": "code",
   "execution_count": null,
   "metadata": {},
   "outputs": [],
   "source": [
    "def filtercode(row):\n",
    "\n",
    "    line = ICD9_PROC_CODE[ICD9_PROC_CODE['0'].str.replace(\".\", \"\") == row['ICD9_CODE']]\n",
    "\n",
    "    if not line.empty:\n",
    "        # return value corresponding to superclass in row\n",
    "        index = pd.Series(line.values[0]).last_valid_index()\n",
    "        label_row = ICD9_LABEL[ ICD9_LABEL['Class ID'] == row[str(index)].values[0]]\n",
    "        label = label_row.values[0][1]\n",
    "        \n",
    "        new_row = row\n",
    "        new_row['Type'] = label\n",
    "        df = df.append([new_row], ignore_index=True)\n",
    "\n",
    "# map the data\n",
    "df.progress_apply(lambda x: filtercode(x), axis=1)"
   ]
  },
  {
   "cell_type": "code",
   "execution_count": null,
   "metadata": {},
   "outputs": [],
   "source": [
    "df"
   ]
  },
  {
   "cell_type": "code",
   "execution_count": null,
   "metadata": {},
   "outputs": [],
   "source": [
    "MIMIC_ICD9_CODE = pd.DataFrame()\n",
    "\n",
    "def filtercode(row):\n",
    "        # ------------------------------- DIAG ------------------------------------------\n",
    "        line = ICD9_DIAG_CODE[ICD9_DIAG_CODE['0'].str.replace(\".\", \"\") == row['ICD9_CODE']]\n",
    "\n",
    "        if not line.empty:\n",
    "            # return value corresponding to superclass in row\n",
    "            index = pd.Series(line.values[0]).last_valid_index()\n",
    "            label_row = ICD9_LABEL[ ICD9_LABEL['Class ID'] == row[str(index)].values[0]]\n",
    "            label = label_row.values[0][1]\n",
    "        \n",
    "            row['Type'] = label\n",
    "            if MIMIC_ICD9_CODE.empty:\n",
    "                MIMIC_ICD9_CODE = pd.DataFrame([row])\n",
    "            else:\n",
    "                MIMIC_ICD9_CODE = MIMIC_ICD9_CODE.append([row], ignore_index=True)\n",
    "        \n",
    "        # ------------------------------- PROC -------------------------------------------\n",
    "        line = ICD9_PROC_CODE[ICD9_PROC_CODE['0'].str.replace(\".\", \"\") == row['ICD9_CODE']]\n",
    "    \n",
    "        if not line.empty:\n",
    "            # return value corresponding to superclass in row\n",
    "            index = pd.Series(line.values[0]).last_valid_index()\n",
    "            label_row = ICD9_LABEL[ ICD9_LABEL['Class ID'] == row[str(index)].values[0]]\n",
    "            label = label_row.values[0][1]\n",
    "            \n",
    "            row['Type'] = label\n",
    "            if MIMIC_ICD9_CODE.empty:\n",
    "                MIMIC_ICD9_CODE = pd.DataFrame([row])\n",
    "            else:\n",
    "                MIMIC_ICD9_CODE = MIMIC_ICD9_CODE.append([row], ignore_index=True)\n",
    "                \n",
    "# map the data\n",
    "df.progress_apply(lambda x: filtercode(x), axis=1)"
   ]
  },
  {
   "cell_type": "code",
   "execution_count": null,
   "metadata": {
    "scrolled": true
   },
   "outputs": [],
   "source": [
    "MIMIC_ICD9_CODE"
   ]
  },
  {
   "cell_type": "code",
   "execution_count": null,
   "metadata": {
    "scrolled": true
   },
   "outputs": [],
   "source": [
    "df.to_csv('~/DIAG_CODE.csv', index=False)"
   ]
  },
  {
   "cell_type": "code",
   "execution_count": null,
   "metadata": {
    "scrolled": true
   },
   "outputs": [],
   "source": [
    "df = pd.read_csv('/home/sohaib/DIAG_CODE.csv')\n",
    "\n",
    "df[df['HADM_ID'] == 100003]"
   ]
  },
  {
   "cell_type": "code",
   "execution_count": null,
   "metadata": {
    "scrolled": true
   },
   "outputs": [],
   "source": [
    "## Issue how to combine mutiple andhow to handle duplicated values\n",
    "\n",
    "df = df[df['HADM_ID'] == 199993]"
   ]
  },
  {
   "cell_type": "code",
   "execution_count": null,
   "metadata": {},
   "outputs": [],
   "source": [
    "df"
   ]
  },
  {
   "cell_type": "code",
   "execution_count": null,
   "metadata": {
    "scrolled": true
   },
   "outputs": [],
   "source": [
    "gb = df.groupby('HADM_ID')\n",
    "\n",
    "df = pd.DataFrame()\n",
    "\n",
    "for name, group in tqdm(gb):\n",
    "    \n",
    "    df_new = pd.DataFrame([np.append(group['ICD9_CODE'], name)], columns=np.append(group['Type'].values, 'HADM_ID')) \n",
    "    #print(\"Init\", df_new) \n",
    "    \n",
    "    # remove duplicates\n",
    "    df_rep = df_new.loc[:,df_new.columns.duplicated()]\n",
    "    df_new = df_new.loc[:,~df_new.columns.duplicated()]   \n",
    "    df_copy = df_new\n",
    "    \n",
    "    # add duplicates as new rows\n",
    "    #print(\"new\", df_new)\n",
    "    #print(\"rep\", df_rep)\n",
    "    #print(\"copy\", df_copy)\n",
    "    \n",
    "    for name, value in df_rep.iteritems():\n",
    "        df_add = df_copy.copy()\n",
    "        df_add[name] = value.values[0]\n",
    "        df_new = df_new.append(df_add, ignore_index=True)\n",
    "    \n",
    "    #print(\"PROD\", df_new)\n",
    "    if df.empty:\n",
    "        df = df_new\n",
    "    else:\n",
    "        df = df.append(df_new, ignore_index=True)\n",
    "    #print(\"--- Done ---\")"
   ]
  },
  {
   "cell_type": "code",
   "execution_count": null,
   "metadata": {
    "scrolled": true
   },
   "outputs": [],
   "source": [
    "df[~df['ERROR'].isnull()]"
   ]
  },
  {
   "cell_type": "code",
   "execution_count": null,
   "metadata": {},
   "outputs": [],
   "source": [
    "df.to_csv('~/DIAG_ROWS', index=False)"
   ]
  },
  {
   "cell_type": "code",
   "execution_count": null,
   "metadata": {},
   "outputs": [],
   "source": [
    "df = pd.read_csv('~/DIAG_ROWS')"
   ]
  },
  {
   "cell_type": "code",
   "execution_count": null,
   "metadata": {},
   "outputs": [],
   "source": [
    "df"
   ]
  },
  {
   "cell_type": "code",
   "execution_count": null,
   "metadata": {},
   "outputs": [],
   "source": []
  }
 ],
 "metadata": {
  "kernelspec": {
   "display_name": "Python 3",
   "language": "python",
   "name": "python3"
  },
  "language_info": {
   "codemirror_mode": {
    "name": "ipython",
    "version": 3
   },
   "file_extension": ".py",
   "mimetype": "text/x-python",
   "name": "python",
   "nbconvert_exporter": "python",
   "pygments_lexer": "ipython3",
   "version": "3.7.0"
  }
 },
 "nbformat": 4,
 "nbformat_minor": 2
}
