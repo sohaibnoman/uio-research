{
 "cells": [
  {
   "cell_type": "code",
   "execution_count": null,
   "metadata": {},
   "outputs": [],
   "source": [
    "import pandas as pd\n",
    "import numpy as np\n",
    "from tqdm import tqdm\n",
    "\n",
    "tqdm.pandas()"
   ]
  },
  {
   "cell_type": "markdown",
   "metadata": {},
   "source": [
    "# (issue) with procedures table\n",
    "\n",
    "* If ex. 4333 is in both dictionarys with procedure and diagnose label this will either be repeated or overwritten\n",
    "* 331 is an example of a code repeated in procedure dictionary with different labels, so again wil both be repreated or overwritten"
   ]
  },
  {
   "cell_type": "code",
   "execution_count": null,
   "metadata": {
    "scrolled": true
   },
   "outputs": [],
   "source": [
    "df_diag  = pd.read_csv('mimic-iii-clinical-database-1.4/DIAGNOSES_ICD.csv.gz')"
   ]
  },
  {
   "cell_type": "code",
   "execution_count": null,
   "metadata": {
    "scrolled": true
   },
   "outputs": [],
   "source": [
    "df_diag.head()"
   ]
  },
  {
   "cell_type": "markdown",
   "metadata": {},
   "source": [
    "# label the proc and diag with help of ICD9_CODES from bioportal\n",
    "\n",
    "some of the codes in procedure table contain diseases codes as from the website\n",
    "\n",
    "https://www.findacode.com/search/search.php?str=3601\n",
    "\n",
    "we can find the codes and se that exp. 4441 is both in procedures and in diseases, but 360.1 is only in diseases which we have in the procedures table\n",
    "\n",
    "also 374 is in different catgeory both in procedure and in disease depending on which volume of the icd9 is used\n",
    "\n",
    "407 is a HCPCS and not a ICD9 code based on this website\n",
    "https://www.findacode.com/search/search.php?str=407\n",
    "and therefore not found in the icd9 codes from bio portal, but accurs in the procedure table"
   ]
  },
  {
   "cell_type": "code",
   "execution_count": null,
   "metadata": {
    "scrolled": true
   },
   "outputs": [],
   "source": [
    "ICD9_df = pd.read_csv('ICD9_CODES.csv')\n",
    "ICD9_df = ICD9_df[['0', 'LABEL']].rename(columns={'0':'ICD9_CODE'})\n",
    "\n",
    "ICD9_diag = ICD9_df[ICD9_df['LABEL'] != 'PROCEDURES']\n",
    "ICD9_proc = ICD9_df[ICD9_df['LABEL'] == 'PROCEDURES']\n",
    "\n",
    "ICD9_diag['LABEL'].unique()"
   ]
  },
  {
   "cell_type": "code",
   "execution_count": null,
   "metadata": {
    "scrolled": true
   },
   "outputs": [],
   "source": [
    "df_diag = pd.merge(df_diag, ICD9_diag, on='ICD9_CODE', how='left')\n",
    "df_diag = df_diag[~df_diag['LABEL'].isnull()]\n",
    "\n",
    "df_diag"
   ]
  },
  {
   "cell_type": "code",
   "execution_count": null,
   "metadata": {},
   "outputs": [],
   "source": [
    "#df_proc.to_csv('mimic-iii-clinical-database-1.4/PROC_LABELD.csv', index=False)\n",
    "df_diag.to_csv('mimic-iii-clinical-database-1.4/DIAG_LABELD.csv', index=False)"
   ]
  },
  {
   "cell_type": "markdown",
   "metadata": {},
   "source": [
    "## Join each category togheter\n"
   ]
  },
  {
   "cell_type": "code",
   "execution_count": null,
   "metadata": {
    "scrolled": true
   },
   "outputs": [],
   "source": [
    "#df_proc = pd.read_csv('mimic-iii-clinical-database-1.4/PROC_LABELD.csv')\n",
    "df_diag = pd.read_csv('mimic-iii-clinical-database-1.4/DIAG_LABELD.csv')"
   ]
  },
  {
   "cell_type": "code",
   "execution_count": null,
   "metadata": {
    "scrolled": true
   },
   "outputs": [],
   "source": [
    "df_diag"
   ]
  },
  {
   "cell_type": "code",
   "execution_count": null,
   "metadata": {
    "scrolled": true
   },
   "outputs": [],
   "source": [
    "df_diag = df_diag[['HADM_ID', 'ICD9_CODE', 'LABEL']]\n",
    "\n",
    "df_diag.head()"
   ]
  },
  {
   "cell_type": "code",
   "execution_count": null,
   "metadata": {},
   "outputs": [],
   "source": [
    "df_dis = df_diag[df_diag['LABEL'] == 'DISEASES AND INJURIES'].rename(columns={'ICD9_CODE':'DISEASES AND INJURIES'})\n",
    "df_dis = df_dis.drop('LABEL', axis=1)\n",
    "df_dis.head()"
   ]
  },
  {
   "cell_type": "code",
   "execution_count": null,
   "metadata": {},
   "outputs": [],
   "source": [
    "df_symp = df_diag[df_diag['LABEL'] == 'SYMPTOMS, SIGNS, AND ILL-DEFINED CONDITIONS'].rename(columns={'ICD9_CODE':'SYMPTOMS, SIGNS, AND ILL-DEFINED CONDITIONS'})\n",
    "df_symp = df_symp.drop('LABEL', axis=1)\n",
    "df_symp.head()"
   ]
  },
  {
   "cell_type": "code",
   "execution_count": null,
   "metadata": {},
   "outputs": [],
   "source": [
    "df_fact = df_diag[df_diag['LABEL'] == 'SUPPLEMENTARY CLASSIFICATION OF FACTORS INFLUENCING HEALTH STATUS AND CONTACT WITH HEALTH SERVICES'].rename(columns={'ICD9_CODE':'SUPPLEMENTARY CLASSIFICATION OF FACTORS INFLUENCING HEALTH STATUS AND CONTACT WITH HEALTH SERVICES'})\n",
    "df_fact = df_fact.drop('LABEL', axis=1)\n",
    "df_fact.head()"
   ]
  },
  {
   "cell_type": "code",
   "execution_count": null,
   "metadata": {},
   "outputs": [],
   "source": [
    "df_ext = df_diag[df_diag['LABEL'] == 'SUPPLEMENTARY CLASSIFICATION OF EXTERNAL CAUSES OF INJURY AND POISONING'].rename(columns={'ICD9_CODE':'SUPPLEMENTARY CLASSIFICATION OF EXTERNAL CAUSES OF INJURY AND POISONING'})\n",
    "df_ext = df_ext.drop('LABEL', axis=1)\n",
    "df_ext.head()"
   ]
  },
  {
   "cell_type": "code",
   "execution_count": null,
   "metadata": {
    "scrolled": true
   },
   "outputs": [],
   "source": [
    "df = pd.merge(df_dis, df_symp, on='HADM_ID', how='inner')\n",
    "df = pd.merge(df, df_fact, on='HADM_ID', how='inner')\n",
    "df = pd.merge(df, df_ext, on='HADM_ID', how='inner')\n",
    "\n",
    "df"
   ]
  },
  {
   "cell_type": "code",
   "execution_count": null,
   "metadata": {},
   "outputs": [],
   "source": [
    "df.to_csv('mimic-iii-clinical-database-1.4/DIAG_ROWS.csv', index=False)"
   ]
  },
  {
   "cell_type": "code",
   "execution_count": null,
   "metadata": {
    "scrolled": true
   },
   "outputs": [],
   "source": [
    "## Issue how to combine mutiple andhow to handle duplicated values\n",
    "\n",
    "df = df[df['HADM_ID'] == 199993]"
   ]
  }
 ],
 "metadata": {
  "kernelspec": {
   "display_name": "Python 3",
   "language": "python",
   "name": "python3"
  },
  "language_info": {
   "codemirror_mode": {
    "name": "ipython",
    "version": 3
   },
   "file_extension": ".py",
   "mimetype": "text/x-python",
   "name": "python",
   "nbconvert_exporter": "python",
   "pygments_lexer": "ipython3",
   "version": "3.7.0"
  }
 },
 "nbformat": 4,
 "nbformat_minor": 2
}
