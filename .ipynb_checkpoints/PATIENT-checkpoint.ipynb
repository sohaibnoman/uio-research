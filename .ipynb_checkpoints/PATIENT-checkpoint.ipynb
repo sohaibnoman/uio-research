{
 "cells": [
  {
   "cell_type": "code",
   "execution_count": null,
   "metadata": {},
   "outputs": [],
   "source": [
    "import pandas as pd\n",
    "import numpy as np\n",
    "import seaborn as sns\n",
    "import matplotlib.pyplot as plt\n",
    "\n",
    "# for jupyter notebook\n",
    "pd.options.mode.chained_assignment = None  # default='warn'"
   ]
  },
  {
   "cell_type": "code",
   "execution_count": null,
   "metadata": {},
   "outputs": [],
   "source": [
    "# LOS is out target value\n",
    "df_los = pd.read_csv('/home/sohaib/mimic-iii-clinical-database-1.4/ICUSTAYS.csv.gz')\n",
    "\n",
    "# extract valuable columns\n",
    "df_los = df_los[['ICUSTAY_ID', 'SUBJECT_ID', 'INTIME']]\n",
    "\n",
    "df_los"
   ]
  },
  {
   "cell_type": "markdown",
   "metadata": {},
   "source": [
    "# Patient information\n",
    "\n",
    "* Gender\n",
    "* Date of birth (to calculate the age)"
   ]
  },
  {
   "cell_type": "code",
   "execution_count": null,
   "metadata": {},
   "outputs": [],
   "source": [
    "# read in patient information\n",
    "df = pd.read_csv('/home/sohaib/mimic-iii-clinical-database-1.4/PATIENTS.csv.gz')\n",
    "\n",
    "df = pd.merge(df, df_los, on=\"SUBJECT_ID\", how=\"left\")"
   ]
  },
  {
   "cell_type": "code",
   "execution_count": null,
   "metadata": {},
   "outputs": [],
   "source": [
    "df = df[['SUBJECT_ID', 'GENDER', 'DOB', 'ICUSTAY_ID', 'INTIME']]\n",
    "\n",
    "df"
   ]
  },
  {
   "cell_type": "markdown",
   "metadata": {},
   "source": [
    "# Age"
   ]
  },
  {
   "cell_type": "code",
   "execution_count": null,
   "metadata": {},
   "outputs": [],
   "source": []
  },
  {
   "cell_type": "code",
   "execution_count": null,
   "metadata": {},
   "outputs": [],
   "source": [
    "# make colums containing date, into date type instead of str\n",
    "df['DOB'] = pd.to_datetime(df['DOB'])\n",
    "df['INTIME'] = pd.to_datetime(df['INTIME'])\n",
    "\n",
    "df = df.dropna()\n",
    "\n",
    "df"
   ]
  },
  {
   "cell_type": "code",
   "execution_count": null,
   "metadata": {},
   "outputs": [],
   "source": [
    "# get number of days and convert to decimal\n",
    "df['AGE'] = (df['INTIME'].dt.year + (df['INTIME'].dt.month/12) + (df['INTIME'].dt.day/365))- (df['DOB'].dt.year + (df['DOB'].dt.month/12) + (df['DOB'].dt.day/365))\n",
    "\n",
    "df"
   ]
  },
  {
   "cell_type": "code",
   "execution_count": null,
   "metadata": {},
   "outputs": [],
   "source": []
  },
  {
   "cell_type": "code",
   "execution_count": null,
   "metadata": {},
   "outputs": [],
   "source": [
    "# remove thos over 89 to get rid of people with age in 300\n",
    "df = df[ df['AGE'] <= 89 ]\n",
    "\n",
    "df"
   ]
  },
  {
   "cell_type": "markdown",
   "metadata": {},
   "source": [
    "# Get which season the entered the ICU\n",
    "\n",
    "seasons could be:\n",
    "* summer\n",
    "* winter\n",
    "* spring\n",
    "* authum"
   ]
  },
  {
   "cell_type": "code",
   "execution_count": null,
   "metadata": {
    "scrolled": true
   },
   "outputs": [],
   "source": [
    "df['MONTH'] = pd.DatetimeIndex(df['INTIME']).month\n",
    "\n",
    "def getSeason(x):\n",
    "    if (1 <= x < 3) or (x == 12):\n",
    "        return \"W\"\n",
    "    elif (3 <= x < 6):\n",
    "        return \"V\"\n",
    "    elif (6 <= x < 9):\n",
    "        return \"S\"\n",
    "    elif (9 <= x < 12):\n",
    "        return \"H\"\n",
    "    else:\n",
    "        return None\n",
    "\n",
    "df['SEASON'] = df['MONTH'].map(lambda x: getSeason(x))\n",
    "\n",
    "df"
   ]
  },
  {
   "cell_type": "code",
   "execution_count": null,
   "metadata": {},
   "outputs": [],
   "source": [
    "df = df[['ICUSTAY_ID', 'GENDER', 'AGE', 'SEASON' ]]\n",
    "\n",
    "# set index\n",
    "df.set_index('ICUSTAY_ID', inplace=True)\n",
    "\n",
    "df.to_csv(\"~/ICU_PATIENT.csv\", encoding=\"utf-8\")\n",
    "\n",
    "df"
   ]
  },
  {
   "cell_type": "code",
   "execution_count": null,
   "metadata": {},
   "outputs": [],
   "source": []
  }
 ],
 "metadata": {
  "kernelspec": {
   "display_name": "Python 3",
   "language": "python",
   "name": "python3"
  },
  "language_info": {
   "codemirror_mode": {
    "name": "ipython",
    "version": 3
   },
   "file_extension": ".py",
   "mimetype": "text/x-python",
   "name": "python",
   "nbconvert_exporter": "python",
   "pygments_lexer": "ipython3",
   "version": "3.7.0"
  }
 },
 "nbformat": 4,
 "nbformat_minor": 2
}
