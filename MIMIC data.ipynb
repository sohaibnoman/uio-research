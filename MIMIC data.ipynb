{
 "cells": [
  {
   "cell_type": "code",
   "execution_count": null,
   "metadata": {},
   "outputs": [],
   "source": [
    "import pandas as pd\n",
    "import numpy as np\n",
    "import seaborn as sns\n",
    "import matplotlib.pyplot as plt\n",
    "\n",
    "# for jupyter notebook\n",
    "pd.options.mode.chained_assignment = None  # default='warn'"
   ]
  },
  {
   "cell_type": "markdown",
   "metadata": {},
   "source": [
    "## Features choosen til now\n",
    "\n",
    "general info\n",
    "* DB source? (different data, give different results)\n",
    "* insureance (self pais stay less, see graph)\n",
    "* diagnoses (highest rated)\n",
    "* procedure (first done - might be for onother diagnose?)\n",
    "* age\n",
    "* first care center\n",
    "* gender\n",
    "* season (authumn, fall, summer, winter)\n",
    "* admission type\n",
    "* admission location\n",
    "\n",
    "vitals - (need stabilazation before checkout, mean from 6 hoars before and after)\n",
    "* height, weight for BMI\n",
    "* heart rate\n",
    "* blodpressure\n",
    "* oksygen metning\n",
    "* respirationrate\n",
    "* temperature\n",
    "* (glucose)\n",
    "\n",
    "cant be checked out if\n",
    "* check if organ failiure\n",
    "\n",
    "taken if organ failure\n",
    "* blodsamples maybe from lab items\n",
    "\n",
    "other info\n",
    "* surgery\n",
    "* mechanical ventilazation\n",
    "* first ward?"
   ]
  },
  {
   "cell_type": "code",
   "execution_count": null,
   "metadata": {},
   "outputs": [],
   "source": [
    "# ICU STAYS\n",
    "# LOS is out target value\n",
    "df = pd.read_csv('/home/sohaib/mimic-iii-clinical-database-1.4/ICUSTAYS.csv.gz')\n",
    "\n",
    "# extract valuable columns\n",
    "df = df[['ICUSTAY_ID', 'LOS','DBSOURCE', 'FIRST_CAREUNIT']]\n"
   ]
  },
  {
   "cell_type": "code",
   "execution_count": null,
   "metadata": {},
   "outputs": [],
   "source": []
  },
  {
   "cell_type": "code",
   "execution_count": null,
   "metadata": {},
   "outputs": [],
   "source": [
    "merging_df = [#'/home/sohaib/ICU_Height.csv',\n",
    "              #'/home/sohaib/ICU_Weight.csv',\n",
    "              #'/home/sohaib/ICU_BMI.csv',\n",
    "              '/home/sohaib/ICU_HeartRate.csv',\n",
    "              '/home/sohaib/ICU_sysBP.csv',\n",
    "              '/home/sohaib/ICU_diasBP.csv',\n",
    "              '/home/sohaib/ICU_oxygen_met.csv',\n",
    "              '/home/sohaib/ICU_respRate.csv',\n",
    "              #'/home/sohaib/ICU_temp.csv',\n",
    "              '/home/sohaib/ICU_gluc.csv',\n",
    "              '/home/sohaib/ICU_ADMISSION.csv',\n",
    "              '/home/sohaib/ICU_DIAGNOSE.csv',\n",
    "              '/home/sohaib/ICU_PATIENT.csv',\n",
    "              '/home/sohaib/ICU_PROCEDURE.csv'\n",
    "             ]"
   ]
  },
  {
   "cell_type": "code",
   "execution_count": null,
   "metadata": {},
   "outputs": [],
   "source": [
    "for merge in merging_df:\n",
    "    df_merge = pd.read_csv(merge, index_col=0)\n",
    "    df = pd.merge(df, df_merge, on=\"ICUSTAY_ID\", how=\"left\")"
   ]
  },
  {
   "cell_type": "code",
   "execution_count": null,
   "metadata": {},
   "outputs": [],
   "source": []
  },
  {
   "cell_type": "code",
   "execution_count": null,
   "metadata": {},
   "outputs": [],
   "source": [
    "df.set_index('ICUSTAY_ID', inplace=True)\n",
    "\n",
    "df.to_csv(\"~/FEATURES.csv\", encoding=\"utf-8\")"
   ]
  },
  {
   "cell_type": "markdown",
   "metadata": {},
   "source": [
    "# Visualize age"
   ]
  },
  {
   "cell_type": "code",
   "execution_count": null,
   "metadata": {},
   "outputs": [],
   "source": [
    "sns.set(style=\"ticks\", color_codes=True)\n",
    "\n",
    "tips = df\n",
    "sns.catplot(x=\"AGE\", y=\"LOS\", data=tips);"
   ]
  },
  {
   "cell_type": "code",
   "execution_count": null,
   "metadata": {},
   "outputs": [],
   "source": [
    "print(\"Information about number of days in ICU based on age \\n\")\n",
    "\n",
    "# print median, max and min\n",
    "median =  df['AGE'].median()\n",
    "max_val =  df['AGE'].max()\n",
    "min_val =  df['AGE'].min()\n",
    "print(\"Median: \", median)\n",
    "print(\"Max: \", max_val)\n",
    "print(\"Min: \", min_val)\n",
    "\n",
    "# plot diagram\n",
    "x = df['AGE'].dropna(axis=0)\n",
    "x = x.values\n",
    "\n",
    "ax = sns.distplot(x)\n",
    "ax"
   ]
  },
  {
   "cell_type": "code",
   "execution_count": null,
   "metadata": {},
   "outputs": [],
   "source": [
    "plt.plot(df['AGE'],df['LOS'])\n",
    "\n",
    "plt.show()"
   ]
  },
  {
   "cell_type": "markdown",
   "metadata": {},
   "source": [
    "# Plottign for visualization"
   ]
  },
  {
   "cell_type": "code",
   "execution_count": null,
   "metadata": {
    "scrolled": true
   },
   "outputs": [],
   "source": [
    "df = pd.read_csv('/home/sohaib/features.csv')\n",
    "\n",
    "df = df.sort_values(['DOB'])\n",
    "\n",
    "df"
   ]
  },
  {
   "cell_type": "code",
   "execution_count": null,
   "metadata": {},
   "outputs": [],
   "source": [
    "sns.set(style=\"ticks\", color_codes=True)\n",
    "\n",
    "tips = df\n",
    "sns.catplot(x=\"SEASON\", y=\"LOS\", data=tips);"
   ]
  },
  {
   "cell_type": "code",
   "execution_count": null,
   "metadata": {},
   "outputs": [],
   "source": [
    "tips = df\n",
    "sns.catplot(x=\"FIRST_CAREUNIT\", y=\"LOS\", data=tips);"
   ]
  },
  {
   "cell_type": "code",
   "execution_count": null,
   "metadata": {},
   "outputs": [],
   "source": [
    "tips = df\n",
    "sns.catplot(x=\"GENDER\", y=\"LOS\", data=tips);"
   ]
  },
  {
   "cell_type": "code",
   "execution_count": null,
   "metadata": {},
   "outputs": [],
   "source": [
    "# corr betwwn gender and los\n",
    "\n",
    "df[['LOS', 'GENDER']].cov()"
   ]
  },
  {
   "cell_type": "code",
   "execution_count": null,
   "metadata": {},
   "outputs": [],
   "source": [
    "print(\"Information about number of days in ICU \\n\")\n",
    "\n",
    "# print median, max and min\n",
    "median =  df['LOS'].median()\n",
    "max_val =  df['LOS'].max()\n",
    "min_val =  df['LOS'].min()\n",
    "print(\"Median: \", median)\n",
    "print(\"Max: \", max_val)\n",
    "print(\"Min: \", min_val)\n",
    "\n",
    "# plot diagram\n",
    "x = df['LOS'].dropna(axis=0)\n",
    "x = x.values\n",
    "\n",
    "ax = sns.distplot(x)\n",
    "ax"
   ]
  },
  {
   "cell_type": "code",
   "execution_count": null,
   "metadata": {},
   "outputs": [],
   "source": [
    "# dont work :-(\n",
    "# sns.catplot(x=\"LOS\", kind=\"count\", palette=\"ch:.25\", data=tips)"
   ]
  },
  {
   "cell_type": "markdown",
   "metadata": {},
   "source": []
  },
  {
   "cell_type": "markdown",
   "metadata": {},
   "source": []
  }
 ],
 "metadata": {
  "kernelspec": {
   "display_name": "Python 3",
   "language": "python",
   "name": "python3"
  },
  "language_info": {
   "codemirror_mode": {
    "name": "ipython",
    "version": 3
   },
   "file_extension": ".py",
   "mimetype": "text/x-python",
   "name": "python",
   "nbconvert_exporter": "python",
   "pygments_lexer": "ipython3",
   "version": "3.7.0"
  }
 },
 "nbformat": 4,
 "nbformat_minor": 2
}
