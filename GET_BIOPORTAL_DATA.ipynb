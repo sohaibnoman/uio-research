{
 "cells": [
  {
   "cell_type": "code",
   "execution_count": null,
   "metadata": {},
   "outputs": [],
   "source": [
    "import pandas as pd\n",
    "from tqdm import tqdm\n",
    "\n",
    "tqdm.pandas()\n",
    "\n",
    "# for jupyter notebook\n",
    "pd.options.mode.chained_assignment = None  # default='warn'"
   ]
  },
  {
   "cell_type": "code",
   "execution_count": null,
   "metadata": {},
   "outputs": [],
   "source": [
    "df = pd.read_csv('~/ICD9CM.csv.gz')\n",
    "#df = df[['Class ID', 'Preferred Label', 'Parents']]"
   ]
  },
  {
   "cell_type": "markdown",
   "metadata": {},
   "source": [
    "## Search data"
   ]
  },
  {
   "cell_type": "code",
   "execution_count": null,
   "metadata": {},
   "outputs": [],
   "source": [
    "df['Class ID'] = df['Class ID'].str.lower()\n",
    "\n",
    "df[df['Class ID'].str.contains(\"/0.?1.?1.?6.?6\", na=False)]['Preferred Label'].values"
   ]
  },
  {
   "cell_type": "markdown",
   "metadata": {},
   "source": [
    "# Split the URL to get codes"
   ]
  },
  {
   "cell_type": "code",
   "execution_count": null,
   "metadata": {},
   "outputs": [],
   "source": [
    "def splitICD9(line):\n",
    "    if isinstance(line, str):\n",
    "        return line.rsplit('/', 1)[1]\n",
    "    return line"
   ]
  },
  {
   "cell_type": "code",
   "execution_count": null,
   "metadata": {},
   "outputs": [],
   "source": [
    "# Only keep the notation \n",
    "df['Class ID'] = df['Class ID'].progress_map(lambda x: splitICD9(x))\n",
    "df['Parents'] = df['Parents'].progress_map(lambda x: splitICD9(x))"
   ]
  },
  {
   "cell_type": "markdown",
   "metadata": {},
   "source": [
    "# Make dataframe containing codes with all the parents\n",
    "\n",
    "First we need to figure out all the super parents and stop adding parents til we find them. Current super parents found are following. The first four are marked with the label owl#Thing\n",
    "\n",
    "* '001-99999': 'DISEASES AND INJURIES',\n",
    "* '00-9999': 'PROCEDURES',\n",
    "* 'E000-E9999':'SUPPLEMENTARY CLASSIFICATION OF EXTERNAL CAUSES OF INJURY AND POISONING',\n",
    "* 'V01-V9199':'SUPPLEMENTARY CLASSIFICATION OF FACTORS INFLUENCING HEALTH STATUS AND CONTACT WITH HEALTH SERVICES',\n",
    "* 'T051': 'Event',\n",
    "* 'T071': 'Entity'"
   ]
  },
  {
   "cell_type": "code",
   "execution_count": null,
   "metadata": {},
   "outputs": [],
   "source": [
    "last = ['owl#Thing', 'T051', 'T071']"
   ]
  },
  {
   "cell_type": "code",
   "execution_count": null,
   "metadata": {},
   "outputs": [],
   "source": [
    "ICD9_df = pd.DataFrame()\n",
    "\n",
    "for index, row in tqdm(df.iterrows(), total=df.shape[0]):\n",
    "    current = row\n",
    "    tree = []\n",
    "    \n",
    "    # add label and code to the row\n",
    "    tree.append(current['Preferred Label'])\n",
    "    tree.append(current['Class ID'])\n",
    " \n",
    "    # add patents to the row\n",
    "    while (current['Parents'] not in last) and (current['Class ID'] not in last):\n",
    "        current = df.loc[df.index[df['Class ID'] == current['Parents']][0]]\n",
    "        tree.append(current['Class ID'])\n",
    "    \n",
    "    # Add row to the dataframe\n",
    "    if ICD9_df.empty:\n",
    "        ICD9_df = pd.DataFrame([tree])\n",
    "    else:\n",
    "        ICD9_df = ICD9_df.append([tree], ignore_index=True)\n"
   ]
  },
  {
   "cell_type": "code",
   "execution_count": null,
   "metadata": {},
   "outputs": [],
   "source": [
    "#ICD9_df.head()"
   ]
  },
  {
   "cell_type": "code",
   "execution_count": null,
   "metadata": {},
   "outputs": [],
   "source": [
    "ICD9_df.to_csv('~/ICD9_CODES',index=False)"
   ]
  },
  {
   "cell_type": "markdown",
   "metadata": {},
   "source": [
    "# Split between procedure and diagnose"
   ]
  },
  {
   "cell_type": "code",
   "execution_count": null,
   "metadata": {},
   "outputs": [],
   "source": [
    "# SPLIT BETWEEN DIADNOSE AND PROCEDURES\n",
    "\n",
    "df_diag = pd.DataFrame()\n",
    "df_symp = pd.DataFrame()\n",
    "\n",
    "for index, row in tqdm(ICD9_df.iterrows(), total=ICD9_df.shape[0]):\n",
    "    \n",
    "    # get superclass\n",
    "    index = row.last_valid_index()\n",
    "    label = row[index]\n",
    "    \n",
    "    # create diagnose dataframe\n",
    "    if label == '001-999.99':\n",
    "        if df_diag.empty:\n",
    "            df_diag = pd.DataFrame([row])\n",
    "        else:\n",
    "            df_diag = df_diag.append([row],ignore_index=True)\n",
    "    \n",
    "    # create procedures dataframe\n",
    "    if label == '00-99.99':\n",
    "        if df_symp.empty:\n",
    "            df_symp = pd.DataFrame([row])\n",
    "        else:\n",
    "            df_symp = df_symp.append([row],ignore_index=True)"
   ]
  },
  {
   "cell_type": "code",
   "execution_count": null,
   "metadata": {
    "scrolled": true
   },
   "outputs": [],
   "source": [
    "df_diag.to_csv('~/ICD9_DIAG_CODE', index=False)\n",
    "df_symp.to_csv('~/ICD9_PROC_CODE', index=False)"
   ]
  },
  {
   "cell_type": "markdown",
   "metadata": {},
   "source": []
  },
  {
   "cell_type": "code",
   "execution_count": null,
   "metadata": {},
   "outputs": [],
   "source": [
    "df = df[['Class ID', 'Preferred Label']]\n",
    "df"
   ]
  },
  {
   "cell_type": "code",
   "execution_count": null,
   "metadata": {},
   "outputs": [],
   "source": [
    "df.to_csv('~/ICD9_LABEL', index=False)"
   ]
  },
  {
   "cell_type": "code",
   "execution_count": null,
   "metadata": {
    "scrolled": true
   },
   "outputs": [],
   "source": [
    "df_symp"
   ]
  },
  {
   "cell_type": "code",
   "execution_count": null,
   "metadata": {},
   "outputs": [],
   "source": [
    "ICD9_df"
   ]
  },
  {
   "cell_type": "code",
   "execution_count": null,
   "metadata": {},
   "outputs": [],
   "source": [
    "ICD9_df.to_csv('~/ICD9_CODES',index=False)"
   ]
  },
  {
   "cell_type": "code",
   "execution_count": null,
   "metadata": {},
   "outputs": [],
   "source": [
    "ICD9_df = pd.read_csv('/home/sohaib/ICD9_CODES')\n",
    "\n",
    "#ICD9_df[ICD9_df['1'] == '14.5']"
   ]
  },
  {
   "cell_type": "code",
   "execution_count": null,
   "metadata": {
    "scrolled": true
   },
   "outputs": [],
   "source": [
    "# 40.7 not included for some reason\n",
    "# needs to be added manualy"
   ]
  },
  {
   "cell_type": "code",
   "execution_count": null,
   "metadata": {},
   "outputs": [],
   "source": []
  }
 ],
 "metadata": {
  "kernelspec": {
   "display_name": "Python 3",
   "language": "python",
   "name": "python3"
  },
  "language_info": {
   "codemirror_mode": {
    "name": "ipython",
    "version": 3
   },
   "file_extension": ".py",
   "mimetype": "text/x-python",
   "name": "python",
   "nbconvert_exporter": "python",
   "pygments_lexer": "ipython3",
   "version": "3.7.0"
  }
 },
 "nbformat": 4,
 "nbformat_minor": 2
}
