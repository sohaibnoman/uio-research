{
 "cells": [
  {
   "cell_type": "code",
   "execution_count": 2,
   "metadata": {},
   "outputs": [],
   "source": [
    "import pandas as pd\n",
    "from tqdm import tqdm\n",
    "\n",
    "tqdm.pandas()\n",
    "\n",
    "# for jupyter notebook\n",
    "pd.options.mode.chained_assignment = None  # default='warn'"
   ]
  },
  {
   "cell_type": "code",
   "execution_count": 3,
   "metadata": {},
   "outputs": [
    {
     "data": {
      "text/html": [
       "<div>\n",
       "<style scoped>\n",
       "    .dataframe tbody tr th:only-of-type {\n",
       "        vertical-align: middle;\n",
       "    }\n",
       "\n",
       "    .dataframe tbody tr th {\n",
       "        vertical-align: top;\n",
       "    }\n",
       "\n",
       "    .dataframe thead th {\n",
       "        text-align: right;\n",
       "    }\n",
       "</style>\n",
       "<table border=\"1\" class=\"dataframe\">\n",
       "  <thead>\n",
       "    <tr style=\"text-align: right;\">\n",
       "      <th></th>\n",
       "      <th>Class ID</th>\n",
       "      <th>Preferred Label</th>\n",
       "      <th>Parents</th>\n",
       "    </tr>\n",
       "  </thead>\n",
       "  <tbody>\n",
       "    <tr>\n",
       "      <th>0</th>\n",
       "      <td>http://purl.bioontology.org/ontology/ICD9CM/83.72</td>\n",
       "      <td>Recession of tendon</td>\n",
       "      <td>http://purl.bioontology.org/ontology/ICD9CM/83.7</td>\n",
       "    </tr>\n",
       "    <tr>\n",
       "      <th>1</th>\n",
       "      <td>http://purl.bioontology.org/ontology/ICD9CM/987.8</td>\n",
       "      <td>Toxic effect of other specified gases, fumes, ...</td>\n",
       "      <td>http://purl.bioontology.org/ontology/ICD9CM/987</td>\n",
       "    </tr>\n",
       "    <tr>\n",
       "      <th>2</th>\n",
       "      <td>http://purl.bioontology.org/ontology/ICD9CM/80.23</td>\n",
       "      <td>Arthroscopy, wrist</td>\n",
       "      <td>http://purl.bioontology.org/ontology/ICD9CM/80.2</td>\n",
       "    </tr>\n",
       "    <tr>\n",
       "      <th>3</th>\n",
       "      <td>http://purl.bioontology.org/ontology/ICD9CM/346.4</td>\n",
       "      <td>Menstrual migraine</td>\n",
       "      <td>http://purl.bioontology.org/ontology/ICD9CM/346</td>\n",
       "    </tr>\n",
       "    <tr>\n",
       "      <th>4</th>\n",
       "      <td>http://purl.bioontology.org/ontology/ICD9CM/65...</td>\n",
       "      <td>Chromosomal abnormality in fetus, affecting ma...</td>\n",
       "      <td>http://purl.bioontology.org/ontology/ICD9CM/655.1</td>\n",
       "    </tr>\n",
       "  </tbody>\n",
       "</table>\n",
       "</div>"
      ],
      "text/plain": [
       "                                            Class ID  \\\n",
       "0  http://purl.bioontology.org/ontology/ICD9CM/83.72   \n",
       "1  http://purl.bioontology.org/ontology/ICD9CM/987.8   \n",
       "2  http://purl.bioontology.org/ontology/ICD9CM/80.23   \n",
       "3  http://purl.bioontology.org/ontology/ICD9CM/346.4   \n",
       "4  http://purl.bioontology.org/ontology/ICD9CM/65...   \n",
       "\n",
       "                                     Preferred Label  \\\n",
       "0                                Recession of tendon   \n",
       "1  Toxic effect of other specified gases, fumes, ...   \n",
       "2                                 Arthroscopy, wrist   \n",
       "3                                 Menstrual migraine   \n",
       "4  Chromosomal abnormality in fetus, affecting ma...   \n",
       "\n",
       "                                             Parents  \n",
       "0   http://purl.bioontology.org/ontology/ICD9CM/83.7  \n",
       "1    http://purl.bioontology.org/ontology/ICD9CM/987  \n",
       "2   http://purl.bioontology.org/ontology/ICD9CM/80.2  \n",
       "3    http://purl.bioontology.org/ontology/ICD9CM/346  \n",
       "4  http://purl.bioontology.org/ontology/ICD9CM/655.1  "
      ]
     },
     "execution_count": 3,
     "metadata": {},
     "output_type": "execute_result"
    }
   ],
   "source": [
    "df = pd.read_csv('ICD9CM.csv.gz')\n",
    "\n",
    "df[['Class ID', 'Preferred Label', 'Parents']].head()"
   ]
  },
  {
   "cell_type": "markdown",
   "metadata": {},
   "source": [
    "## Search data"
   ]
  },
  {
   "cell_type": "code",
   "execution_count": null,
   "metadata": {},
   "outputs": [],
   "source": [
    "df['Class ID'] = df['Class ID'].str.lower()\n",
    "\n",
    "df[df['Class ID'].str.contains(\"/0.?1.?1.?6.?6\", na=False)]['Preferred Label'].values"
   ]
  },
  {
   "cell_type": "markdown",
   "metadata": {},
   "source": [
    "# Split the URL to get codes"
   ]
  },
  {
   "cell_type": "code",
   "execution_count": 4,
   "metadata": {},
   "outputs": [],
   "source": [
    "def splitICD9(line):\n",
    "    if isinstance(line, str):\n",
    "        return line.rsplit('/', 1)[1]\n",
    "    return line"
   ]
  },
  {
   "cell_type": "code",
   "execution_count": 5,
   "metadata": {},
   "outputs": [
    {
     "name": "stderr",
     "output_type": "stream",
     "text": [
      "100%|████████████████████████████████| 22533/22533 [00:00<00:00, 563268.46it/s]\n",
      "100%|████████████████████████████████| 22533/22533 [00:00<00:00, 563268.46it/s]\n"
     ]
    }
   ],
   "source": [
    "# Only keep the notation \n",
    "df['Class ID'] = df['Class ID'].progress_map(lambda x: splitICD9(x))\n",
    "df['Parents'] = df['Parents'].progress_map(lambda x: splitICD9(x))"
   ]
  },
  {
   "cell_type": "markdown",
   "metadata": {},
   "source": [
    "# Make dataframe containing codes with all the parents\n",
    "\n",
    "First we need to figure out all the super parents and stop adding parents til we find them. Current super parents found are following. The first four are marked with the label owl#Thing\n",
    "\n",
    "* '001-99999': 'DISEASES AND INJURIES',\n",
    "* '00-9999': 'PROCEDURES',\n",
    "* 'E000-E9999':'SUPPLEMENTARY CLASSIFICATION OF EXTERNAL CAUSES OF INJURY AND POISONING',\n",
    "* 'V01-V9199':'SUPPLEMENTARY CLASSIFICATION OF FACTORS INFLUENCING HEALTH STATUS AND CONTACT WITH HEALTH SERVICES',\n",
    "* 'T051': 'Event',\n",
    "* 'T071': 'Entity'"
   ]
  },
  {
   "cell_type": "code",
   "execution_count": 6,
   "metadata": {},
   "outputs": [],
   "source": [
    "last = ['owl#Thing', 'T051', 'T071']"
   ]
  },
  {
   "cell_type": "code",
   "execution_count": 7,
   "metadata": {},
   "outputs": [
    {
     "name": "stderr",
     "output_type": "stream",
     "text": [
      "  0%|                                                | 0/22533 [00:00<?, ?it/s]C:\\Users\\sohaibn\\AppData\\Local\\Continuum\\anaconda3\\lib\\site-packages\\pandas\\core\\indexing.py:1494: FutureWarning: \n",
      "Passing list-likes to .loc or [] with any missing label will raise\n",
      "KeyError in the future, you can use .reindex() as an alternative.\n",
      "\n",
      "See the documentation here:\n",
      "https://pandas.pydata.org/pandas-docs/stable/indexing.html#deprecate-loc-reindex-listlike\n",
      "  return self._getitem_tuple(key)\n",
      "100%|████████████████████████████████████| 22533/22533 [03:46<00:00, 85.58it/s]\n"
     ]
    }
   ],
   "source": [
    "ICD9_df = pd.DataFrame()\n",
    "\n",
    "for index, row in tqdm(df.iterrows(), total=df.shape[0]):\n",
    "    \n",
    "    # code to the row\n",
    "    current = row\n",
    "    tree = []\n",
    "    tree.append(current['Class ID'])\n",
    " \n",
    "    # add patents to the row\n",
    "    while (current['Parents'] not in last) and (current['Class ID'] not in last):\n",
    "        current = df.loc[df.index[df['Class ID'] == current['Parents']][0]]\n",
    "        tree.append(current['Class ID'])\n",
    "    \n",
    "    # Add row to the dataframe\n",
    "    if ICD9_df.empty:\n",
    "        ICD9_df = pd.DataFrame([tree])\n",
    "    else:\n",
    "        ICD9_df = ICD9_df.append([tree], ignore_index=True)\n"
   ]
  },
  {
   "cell_type": "code",
   "execution_count": null,
   "metadata": {},
   "outputs": [],
   "source": []
  },
  {
   "cell_type": "code",
   "execution_count": 8,
   "metadata": {},
   "outputs": [],
   "source": [
    "# remove duplicated parents (comment out for labeling data, not for semantics)\n",
    "#ICD9_df = ICD9_df[~ICD9_df[0].isin(ICD9_df[1])]\n",
    "\n",
    "# fill in nan with last parent\n",
    "ICD9_df = ICD9_df.fillna(method='ffill', axis=1)"
   ]
  },
  {
   "cell_type": "code",
   "execution_count": 9,
   "metadata": {},
   "outputs": [],
   "source": [
    "ICD9_df.to_csv('ICD9_CODES.csv',index=False)"
   ]
  },
  {
   "cell_type": "markdown",
   "metadata": {},
   "source": [
    "# Split between root parents"
   ]
  },
  {
   "cell_type": "code",
   "execution_count": 10,
   "metadata": {
    "scrolled": true
   },
   "outputs": [],
   "source": [
    "ICD9_df = pd.read_csv('ICD9_CODES.csv')"
   ]
  },
  {
   "cell_type": "code",
   "execution_count": 11,
   "metadata": {},
   "outputs": [
    {
     "name": "stderr",
     "output_type": "stream",
     "text": [
      "100%|███████████████████████████████████| 22533/22533 [00:49<00:00, 459.05it/s]\n"
     ]
    }
   ],
   "source": [
    "# SPLIT BETWEEN DIADNOSE AND PROCEDURES\n",
    "\n",
    "df_dis = pd.DataFrame()\n",
    "df_proc = pd.DataFrame()\n",
    "df_supp_ext = pd.DataFrame()\n",
    "df_supp_fact = pd.DataFrame()\n",
    "\n",
    "for index, row in tqdm(ICD9_df.iterrows(), total=ICD9_df.shape[0]):\n",
    "    \n",
    "    # get superclass\n",
    "    index = row.last_valid_index()\n",
    "    label = row[index]\n",
    "    \n",
    "    # create diagnose dataframe\n",
    "    if label == '001-999.99':\n",
    "        if df_dis.empty:\n",
    "            df_dis = pd.DataFrame([row])\n",
    "        else:\n",
    "            df_dis = df_dis.append([row],ignore_index=True)\n",
    "    \n",
    "    # create procedures dataframe\n",
    "    if label == '00-99.99':\n",
    "        if df_proc.empty:\n",
    "            df_proc = pd.DataFrame([row])\n",
    "        else:\n",
    "            df_proc = df_proc.append([row],ignore_index=True)\n",
    "            \n",
    "    # create procedures dataframe\n",
    "    if label == 'E000-E999.9':\n",
    "        if df_supp_ext.empty:\n",
    "            df_supp_ext = pd.DataFrame([row])\n",
    "        else:\n",
    "            df_supp_ext = df_supp_ext.append([row],ignore_index=True)\n",
    "            \n",
    "    # create procedures dataframe\n",
    "    if label == 'V01-V91.99':\n",
    "        if df_supp_fact.empty:\n",
    "            df_supp_fact = pd.DataFrame([row])\n",
    "        else:\n",
    "            df_supp_fact = df_supp_fact.append([row],ignore_index=True)"
   ]
  },
  {
   "cell_type": "code",
   "execution_count": null,
   "metadata": {},
   "outputs": [],
   "source": []
  },
  {
   "cell_type": "code",
   "execution_count": 12,
   "metadata": {
    "scrolled": true
   },
   "outputs": [],
   "source": [
    "df_dis.to_csv('ICD9_DIS_CODE.csv', index=False)\n",
    "df_proc.to_csv('ICD9_PROC_CODE.csv', index=False)\n",
    "df_supp_ext.to_csv('ICD9_SUPP_EXT_CODE.csv', index=False)\n",
    "df_supp_fact.to_csv('ICD9_SUPP_FACT_CODE.csv', index=False)"
   ]
  },
  {
   "cell_type": "code",
   "execution_count": null,
   "metadata": {},
   "outputs": [],
   "source": []
  },
  {
   "cell_type": "markdown",
   "metadata": {},
   "source": []
  },
  {
   "cell_type": "code",
   "execution_count": null,
   "metadata": {
    "scrolled": true
   },
   "outputs": [],
   "source": [
    "# 407 not included for some reason\n"
   ]
  },
  {
   "cell_type": "code",
   "execution_count": null,
   "metadata": {},
   "outputs": [],
   "source": []
  },
  {
   "cell_type": "code",
   "execution_count": null,
   "metadata": {},
   "outputs": [],
   "source": []
  }
 ],
 "metadata": {
  "kernelspec": {
   "display_name": "Python 3",
   "language": "python",
   "name": "python3"
  },
  "language_info": {
   "codemirror_mode": {
    "name": "ipython",
    "version": 3
   },
   "file_extension": ".py",
   "mimetype": "text/x-python",
   "name": "python",
   "nbconvert_exporter": "python",
   "pygments_lexer": "ipython3",
   "version": "3.7.3"
  }
 },
 "nbformat": 4,
 "nbformat_minor": 2
}
