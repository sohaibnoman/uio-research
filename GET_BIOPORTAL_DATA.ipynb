{
 "cells": [
  {
   "cell_type": "code",
   "execution_count": null,
   "metadata": {},
   "outputs": [],
   "source": [
    "import pandas as pd\n",
    "from tqdm import tqdm\n",
    "\n",
    "tqdm.pandas()\n",
    "\n",
    "# for jupyter notebook\n",
    "pd.options.mode.chained_assignment = None  # default='warn'"
   ]
  },
  {
   "cell_type": "code",
   "execution_count": null,
   "metadata": {},
   "outputs": [],
   "source": [
    "df = pd.read_csv('ICD9CM.csv.gz')\n",
    "\n",
    "df[['Class ID', 'Preferred Label', 'Parents']].head()"
   ]
  },
  {
   "cell_type": "markdown",
   "metadata": {},
   "source": [
    "## Search data"
   ]
  },
  {
   "cell_type": "code",
   "execution_count": null,
   "metadata": {},
   "outputs": [],
   "source": [
    "df['Class ID'] = df['Class ID'].str.lower()\n",
    "\n",
    "df[df['Class ID'].str.contains(\"/0.?1.?1.?6.?6\", na=False)]['Preferred Label'].values"
   ]
  },
  {
   "cell_type": "markdown",
   "metadata": {},
   "source": [
    "# Split the URL to get codes"
   ]
  },
  {
   "cell_type": "code",
   "execution_count": null,
   "metadata": {},
   "outputs": [],
   "source": [
    "def splitICD9(line):\n",
    "    if isinstance(line, str):\n",
    "        return line.rsplit('/', 1)[1]\n",
    "    return line"
   ]
  },
  {
   "cell_type": "code",
   "execution_count": null,
   "metadata": {},
   "outputs": [],
   "source": [
    "# Only keep the notation \n",
    "df['Class ID'] = df['Class ID'].progress_map(lambda x: splitICD9(x))\n",
    "df['Parents'] = df['Parents'].progress_map(lambda x: splitICD9(x))"
   ]
  },
  {
   "cell_type": "markdown",
   "metadata": {},
   "source": [
    "# Make dataframe containing codes with all the parents\n",
    "\n",
    "First we need to figure out all the super parents and stop adding parents til we find them. Current super parents found are following. The first four are marked with the label owl#Thing\n",
    "\n",
    "* '001-99999': 'DISEASES AND INJURIES',\n",
    "* '00-9999': 'PROCEDURES',\n",
    "* 'E000-E9999':'SUPPLEMENTARY CLASSIFICATION OF EXTERNAL CAUSES OF INJURY AND POISONING',\n",
    "* 'V01-V9199':'SUPPLEMENTARY CLASSIFICATION OF FACTORS INFLUENCING HEALTH STATUS AND CONTACT WITH HEALTH SERVICES',\n",
    "* 'T051': 'Event',\n",
    "* 'T071': 'Entity'"
   ]
  },
  {
   "cell_type": "code",
   "execution_count": null,
   "metadata": {},
   "outputs": [],
   "source": [
    "last = ['owl#Thing', 'T051', 'T071']"
   ]
  },
  {
   "cell_type": "code",
   "execution_count": null,
   "metadata": {},
   "outputs": [],
   "source": [
    "ICD9_df = pd.DataFrame()\n",
    "\n",
    "for index, row in tqdm(df.iterrows(), total=df.shape[0]):\n",
    "    \n",
    "    # code to the row\n",
    "    current = row\n",
    "    tree = []\n",
    "    tree.append(current['Class ID'])\n",
    " \n",
    "    # add patents to the row\n",
    "    while (current['Parents'] not in last) and (current['Class ID'] not in last):\n",
    "        current = df.loc[df.index[df['Class ID'] == current['Parents']][0]]\n",
    "        tree.append(current['Class ID'])\n",
    "    \n",
    "    # Add row to the dataframe\n",
    "    if ICD9_df.empty:\n",
    "        ICD9_df = pd.DataFrame([tree])\n",
    "    else:\n",
    "        ICD9_df = ICD9_df.append([tree], ignore_index=True)\n"
   ]
  },
  {
   "cell_type": "code",
   "execution_count": null,
   "metadata": {},
   "outputs": [],
   "source": []
  },
  {
   "cell_type": "code",
   "execution_count": null,
   "metadata": {},
   "outputs": [],
   "source": [
    "# remove duplicated parents (comment out for labeling data, not for semantics)\n",
    "#ICD9_df = ICD9_df[~ICD9_df[0].isin(ICD9_df[1])]\n",
    "\n",
    "# fill in nan with last parent\n",
    "ICD9_df = ICD9_df.fillna(method='ffill', axis=1)"
   ]
  },
  {
   "cell_type": "code",
   "execution_count": null,
   "metadata": {},
   "outputs": [],
   "source": [
    "ICD9_df.to_csv('ICD9_CODES.csv',index=False)"
   ]
  },
  {
   "cell_type": "markdown",
   "metadata": {},
   "source": [
    "# Split between root parents"
   ]
  },
  {
   "cell_type": "code",
   "execution_count": null,
   "metadata": {
    "scrolled": true
   },
   "outputs": [],
   "source": [
    "ICD9_df = pd.read_csv('ICD9_CODES.csv')"
   ]
  },
  {
   "cell_type": "code",
   "execution_count": null,
   "metadata": {},
   "outputs": [],
   "source": [
    "# SPLIT BETWEEN DIADNOSE AND PROCEDURES\n",
    "\n",
    "df_dis = pd.DataFrame()\n",
    "df_proc = pd.DataFrame()\n",
    "df_supp_ext = pd.DataFrame()\n",
    "df_supp_fact = pd.DataFrame()\n",
    "\n",
    "for index, row in tqdm(ICD9_df.iterrows(), total=ICD9_df.shape[0]):\n",
    "    \n",
    "    # get superclass\n",
    "    index = row.last_valid_index()\n",
    "    label = row[index]\n",
    "    \n",
    "    # create diagnose dataframe\n",
    "    if label == '001-999.99':\n",
    "        if df_dis.empty:\n",
    "            df_dis = pd.DataFrame([row])\n",
    "        else:\n",
    "            df_dis = df_dis.append([row],ignore_index=True)\n",
    "    \n",
    "    # create procedures dataframe\n",
    "    if label == '00-99.99':\n",
    "        if df_proc.empty:\n",
    "            df_proc = pd.DataFrame([row])\n",
    "        else:\n",
    "            df_proc = df_proc.append([row],ignore_index=True)\n",
    "            \n",
    "    # create procedures dataframe\n",
    "    if label == 'E000-E999.9':\n",
    "        if df_supp_ext.empty:\n",
    "            df_supp_ext = pd.DataFrame([row])\n",
    "        else:\n",
    "            df_supp_ext = df_supp_ext.append([row],ignore_index=True)\n",
    "            \n",
    "    # create procedures dataframe\n",
    "    if label == 'V01-V91.99':\n",
    "        if df_supp_fact.empty:\n",
    "            df_supp_fact = pd.DataFrame([row])\n",
    "        else:\n",
    "            df_supp_fact = df_supp_fact.append([row],ignore_index=True)"
   ]
  },
  {
   "cell_type": "code",
   "execution_count": null,
   "metadata": {},
   "outputs": [],
   "source": []
  },
  {
   "cell_type": "code",
   "execution_count": null,
   "metadata": {
    "scrolled": true
   },
   "outputs": [],
   "source": [
    "df_dis.to_csv('ICD9_DIS_CODE.csv', index=False)\n",
    "df_proc.to_csv('ICD9_PROC_CODE.csv', index=False)\n",
    "df_supp_ext.to_csv('ICD9_SUPP_EXT_CODE.csv', index=False)\n",
    "df_supp_fact.to_csv('ICD9_SUPP_FACT_CODE.csv', index=False)"
   ]
  },
  {
   "cell_type": "code",
   "execution_count": null,
   "metadata": {},
   "outputs": [],
   "source": []
  },
  {
   "cell_type": "markdown",
   "metadata": {},
   "source": []
  },
  {
   "cell_type": "code",
   "execution_count": null,
   "metadata": {
    "scrolled": true
   },
   "outputs": [],
   "source": [
    "# 407 not included for some reason\n"
   ]
  },
  {
   "cell_type": "code",
   "execution_count": null,
   "metadata": {},
   "outputs": [],
   "source": []
  },
  {
   "cell_type": "code",
   "execution_count": null,
   "metadata": {},
   "outputs": [],
   "source": []
  }
 ],
 "metadata": {
  "kernelspec": {
   "display_name": "Python 3",
   "language": "python",
   "name": "python3"
  },
  "language_info": {
   "codemirror_mode": {
    "name": "ipython",
    "version": 3
   },
   "file_extension": ".py",
   "mimetype": "text/x-python",
   "name": "python",
   "nbconvert_exporter": "python",
   "pygments_lexer": "ipython3",
   "version": "3.7.0"
  }
 },
 "nbformat": 4,
 "nbformat_minor": 2
}
