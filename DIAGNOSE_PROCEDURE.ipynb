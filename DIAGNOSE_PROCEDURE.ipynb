{
 "cells": [
  {
   "cell_type": "code",
   "execution_count": null,
   "metadata": {},
   "outputs": [],
   "source": [
    "import pandas as pd\n",
    "import numpy as np\n",
    "import seaborn as sns\n",
    "import matplotlib.pyplot as plt\n",
    "\n",
    "# for jupyter notebook\n",
    "pd.options.mode.chained_assignment = None  # default='warn'"
   ]
  },
  {
   "cell_type": "code",
   "execution_count": null,
   "metadata": {},
   "outputs": [],
   "source": [
    "# ICU STAYS\n",
    "# LOS is out target value\n",
    "df_los = pd.read_csv('/home/sohaib/mimic-iii-clinical-database-1.4/ICUSTAYS.csv.gz')\n",
    "\n",
    "# extract valuable columns\n",
    "df_los = df_los[['ICUSTAY_ID', 'HADM_ID']]\n",
    "\n",
    "# remove NaN from data, know it is in LOS\n",
    "#df.dropna()"
   ]
  },
  {
   "cell_type": "code",
   "execution_count": null,
   "metadata": {},
   "outputs": [],
   "source": []
  },
  {
   "cell_type": "markdown",
   "metadata": {},
   "source": [
    "# Diagnoses\n",
    "\n",
    "\n",
    "* Diagnoses is one of the features, here we need to collect one diagnose for every patient, thos will be the one with the highest priority.\n",
    "* Some priorities are missing, these rows will e removed"
   ]
  },
  {
   "cell_type": "code",
   "execution_count": null,
   "metadata": {},
   "outputs": [],
   "source": [
    "# DIAGNOSES_ICD\n",
    "# diagnosis for a patient, need only the one most prioritised\n",
    "\n",
    "df = pd.read_csv('/home/sohaib/mimic-iii-clinical-database-1.4/D_ICD_DIAGNOSES.csv.gz')\n",
    "\n",
    "#df[df['ICD9_CODE'] == '3613']"
   ]
  },
  {
   "cell_type": "markdown",
   "metadata": {},
   "source": [
    "# Procedure\n",
    "\n",
    "* Severeal procedure done on a patient\n",
    "* SEQ tells what was done first and so on"
   ]
  },
  {
   "cell_type": "code",
   "execution_count": null,
   "metadata": {},
   "outputs": [],
   "source": [
    "df = pd.read_csv('/home/sohaib/mimic-iii-clinical-database-1.4/PROCEDURES_ICD.csv.gz')"
   ]
  },
  {
   "cell_type": "code",
   "execution_count": null,
   "metadata": {},
   "outputs": [],
   "source": [
    "# some values for SEQ can be nan need to remove these rows\n",
    "# needs to be done before merging because og grouping\n",
    "#df.dropna()\n",
    "df = df[np.isfinite(df['SEQ_NUM'])]"
   ]
  },
  {
   "cell_type": "markdown",
   "metadata": {},
   "source": [
    "### Create dataframe with first procedure and highest rated diagnose"
   ]
  },
  {
   "cell_type": "code",
   "execution_count": null,
   "metadata": {},
   "outputs": [],
   "source": [
    "def getSeq(df, maxVal):\n",
    "    gb = df.groupby('HADM_ID')\n",
    "\n",
    "    df_new = pd.DataFrame()\n",
    "\n",
    "    for name, group in gb:\n",
    "        # argmax deprecated, therefore using idxmax\n",
    "        if maxVal==1:\n",
    "            diag = group['SEQ_NUM'].idxmax()\n",
    "        else:\n",
    "            diag = group['SEQ_NUM'].idxmin()\n",
    "                \n",
    "        # double to get dataframe not series\n",
    "        df_new = df_new.append(df.loc[[diag]])\n",
    "    \n",
    "    return df_new"
   ]
  },
  {
   "cell_type": "code",
   "execution_count": null,
   "metadata": {},
   "outputs": [],
   "source": [
    "%%time \n",
    "# diagnose\n",
    "df = getSeq(df, 1)"
   ]
  },
  {
   "cell_type": "code",
   "execution_count": null,
   "metadata": {},
   "outputs": [],
   "source": [
    "%%time\n",
    "# procedure\n",
    "df = getSeq(df, 0)"
   ]
  },
  {
   "cell_type": "code",
   "execution_count": null,
   "metadata": {},
   "outputs": [],
   "source": [
    "# join icu stays with p_diagnoses\n",
    "df = pd.merge(df, df_los, on='HADM_ID', how='left')"
   ]
  },
  {
   "cell_type": "code",
   "execution_count": null,
   "metadata": {},
   "outputs": [],
   "source": [
    "df = df[['ICUSTAY_ID', 'ICD9_CODE']]\n",
    "\n",
    "df = df.set_index('ICUSTAY_ID')\n",
    "#df.to_csv(\"~/ICU_DIAGNOSE.csv\", encoding=\"utf-8\")\n",
    "#.to_csv(\"~/ICU_PROCEDURE.csv\", encoding=\"utf-8\")"
   ]
  },
  {
   "cell_type": "code",
   "execution_count": null,
   "metadata": {},
   "outputs": [],
   "source": []
  },
  {
   "cell_type": "code",
   "execution_count": null,
   "metadata": {},
   "outputs": [],
   "source": []
  }
 ],
 "metadata": {
  "kernelspec": {
   "display_name": "Python 3",
   "language": "python",
   "name": "python3"
  },
  "language_info": {
   "codemirror_mode": {
    "name": "ipython",
    "version": 3
   },
   "file_extension": ".py",
   "mimetype": "text/x-python",
   "name": "python",
   "nbconvert_exporter": "python",
   "pygments_lexer": "ipython3",
   "version": "3.7.0"
  }
 },
 "nbformat": 4,
 "nbformat_minor": 2
}
