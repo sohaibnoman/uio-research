{
 "cells": [
  {
   "cell_type": "code",
   "execution_count": null,
   "metadata": {},
   "outputs": [],
   "source": [
    "import pandas as pd\n",
    "import numpy as np\n",
    "from matplotlib import pyplot as plt\n",
    "import sklearn\n",
    "from sklearn import preprocessing, svm\n",
    "from sklearn.neural_network import MLPClassifier\n",
    "from sklearn.model_selection import train_test_split\n",
    "\n",
    "from tqdm import tqdm\n",
    "tqdm.pandas()\n",
    "\n",
    "# for jupyter notebook\n",
    "pd.options.mode.chained_assignment = None  # default='warn'"
   ]
  },
  {
   "cell_type": "markdown",
   "metadata": {},
   "source": [
    "# NEW CAT VAL"
   ]
  },
  {
   "cell_type": "code",
   "execution_count": null,
   "metadata": {
    "scrolled": true
   },
   "outputs": [],
   "source": [
    "# read in new cat values\n",
    "df = pd.read_csv('mimic-iii-clinical-database-1.4/DIAG_ROWS.csv')\n",
    "df_loc = pd.read_csv('mimic-iii-clinical-database-1.4/ICUSTAYS.csv.gz')\n",
    "df_loc = df_loc[['HADM_ID', 'LOS', 'ICUSTAY_ID']]\n",
    "\n",
    "df = pd.merge(df_loc, df, on='HADM_ID', how='left')\n",
    "df = df.drop('HADM_ID', axis=1)\n",
    "df = df.dropna()\n",
    "\n",
    "df"
   ]
  },
  {
   "cell_type": "code",
   "execution_count": null,
   "metadata": {},
   "outputs": [],
   "source": []
  },
  {
   "cell_type": "code",
   "execution_count": null,
   "metadata": {},
   "outputs": [],
   "source": [
    "cat_values = ['DISEASES AND INJURIES', \n",
    "             'SYMPTOMS, SIGNS, AND ILL-DEFINED CONDITIONS', \n",
    "             'SUPPLEMENTARY CLASSIFICATION OF EXTERNAL CAUSES OF INJURY AND POISONING', \n",
    "             'SUPPLEMENTARY CLASSIFICATION OF FACTORS INFLUENCING HEALTH STATUS AND CONTACT WITH HEALTH SERVICES']\n",
    "\n",
    "target = 'LOS'"
   ]
  },
  {
   "cell_type": "code",
   "execution_count": null,
   "metadata": {
    "scrolled": true
   },
   "outputs": [],
   "source": [
    "# encoding\n",
    "df = pd.read_csv('ENC.csv')\n",
    "df_loc = pd.read_csv('mimic-iii-clinical-database-1.4/ICUSTAYS.csv.gz')\n",
    "df_loc = df_loc[['HADM_ID', 'LOS', 'ICUSTAY_ID']]\n",
    "\n",
    "df = pd.merge(df_loc, df, on='HADM_ID', how='left')\n",
    "df = df.drop('HADM_ID', axis=1)\n",
    "df = df.dropna()\n",
    "\n",
    "df"
   ]
  },
  {
   "cell_type": "code",
   "execution_count": null,
   "metadata": {},
   "outputs": [],
   "source": []
  },
  {
   "cell_type": "markdown",
   "metadata": {},
   "source": [
    "# OLD FEATURES"
   ]
  },
  {
   "cell_type": "code",
   "execution_count": null,
   "metadata": {
    "scrolled": true
   },
   "outputs": [],
   "source": [
    "# read in features\n",
    "df = pd.read_csv('mimic-iii-clinical-database-1.4/FEATURES.csv')\n",
    "df = df.dropna()\n",
    "\n",
    "df.head()"
   ]
  },
  {
   "cell_type": "code",
   "execution_count": null,
   "metadata": {
    "scrolled": true
   },
   "outputs": [],
   "source": []
  },
  {
   "cell_type": "markdown",
   "metadata": {},
   "source": [
    "# Categorical values\n",
    "\n",
    "convert categorical values into one-hot-encoded vectors"
   ]
  },
  {
   "cell_type": "code",
   "execution_count": null,
   "metadata": {},
   "outputs": [],
   "source": [
    "cat_values = ['GENDER', 'DISEASES AND INJURIES', \n",
    "             'PROCEDURES', \n",
    "             'SUPPLEMENTARY CLASSIFICATION OF EXTERNAL CAUSES OF INJURY AND POISONING', \n",
    "             'SUPPLEMENTARY CLASSIFICATION OF FACTORS INFLUENCING HEALTH STATUS AND CONTACT WITH HEALTH SERVICES']\n",
    "\n",
    "cont_values = ['HeartRate', \n",
    "               'sysBP', \n",
    "               'diasBP', \n",
    "               'oxygen_met', \n",
    "               'respRate', \n",
    "               'gluc', \n",
    "               'AGE']\n",
    "\n",
    "target = 'LOS'"
   ]
  },
  {
   "cell_type": "code",
   "execution_count": null,
   "metadata": {},
   "outputs": [],
   "source": [
    "# ---- Only categorical\n",
    "df = df.drop(cont_values, axis = 1)\n",
    "\n",
    "df"
   ]
  },
  {
   "cell_type": "markdown",
   "metadata": {},
   "source": [
    "###  -- continue"
   ]
  },
  {
   "cell_type": "code",
   "execution_count": null,
   "metadata": {},
   "outputs": [],
   "source": [
    "# give every category a number\n",
    "# df['ADMISSION_TYPE'] = df['ADMISSION_TYPE'].astype('category').cat.codes\n",
    "\n",
    "for cat in tqdm(cat_values):\n",
    "    # give each category a one-hot-encoded vector\n",
    "    df = df.join(pd.get_dummies(df[cat], prefix=cat + \"_\"))"
   ]
  },
  {
   "cell_type": "code",
   "execution_count": null,
   "metadata": {},
   "outputs": [],
   "source": [
    "# remove columns\n",
    "df = df.drop(cat_values, axis = 1)\n",
    "\n",
    "df.set_index('ICUSTAY_ID', inplace=True)"
   ]
  },
  {
   "cell_type": "code",
   "execution_count": null,
   "metadata": {
    "scrolled": true
   },
   "outputs": [],
   "source": [
    "len(df.columns)"
   ]
  },
  {
   "cell_type": "markdown",
   "metadata": {},
   "source": [
    "## Modify target"
   ]
  },
  {
   "cell_type": "code",
   "execution_count": null,
   "metadata": {
    "scrolled": true
   },
   "outputs": [],
   "source": [
    "df = df[df['LOS'] < 5]"
   ]
  },
  {
   "cell_type": "code",
   "execution_count": null,
   "metadata": {},
   "outputs": [],
   "source": [
    "def maplos(x):\n",
    "    #if x < 1.0: # short stay\n",
    "    #    return 0\n",
    "    if x < 1.0: # middel stay\n",
    "        return 0\n",
    "    elif x < 200.0: # long stay\n",
    "        return 1\n",
    "\n",
    "df['LOS'] = df['LOS'].progress_map(lambda x: maplos(x))"
   ]
  },
  {
   "cell_type": "code",
   "execution_count": null,
   "metadata": {},
   "outputs": [],
   "source": [
    "df.head()"
   ]
  },
  {
   "cell_type": "markdown",
   "metadata": {},
   "source": [
    "# shuffle"
   ]
  },
  {
   "cell_type": "code",
   "execution_count": null,
   "metadata": {},
   "outputs": [],
   "source": [
    "# shuffle\n",
    "\n",
    "## pandas can shuffle to by index, but sentdex says thats ugly\n",
    "df = sklearn.utils.shuffle(df)\n",
    "\n",
    "df.head()"
   ]
  },
  {
   "cell_type": "markdown",
   "metadata": {},
   "source": [
    "# split features and targets"
   ]
  },
  {
   "cell_type": "code",
   "execution_count": null,
   "metadata": {},
   "outputs": [],
   "source": [
    "y = df[target].values\n",
    "X = df.drop(target, axis=1).values"
   ]
  },
  {
   "cell_type": "code",
   "execution_count": null,
   "metadata": {},
   "outputs": [],
   "source": [
    "y=y.astype('int')\n",
    "\n",
    "y"
   ]
  },
  {
   "cell_type": "markdown",
   "metadata": {},
   "source": [
    "# Preprocessing"
   ]
  },
  {
   "cell_type": "code",
   "execution_count": null,
   "metadata": {},
   "outputs": [],
   "source": [
    "# Only do this for the numerical variables\n",
    "X[cont_values] = preprocessing.scale(X[cont_values])\n",
    "\n",
    "X.head()"
   ]
  },
  {
   "cell_type": "code",
   "execution_count": null,
   "metadata": {},
   "outputs": [],
   "source": [
    "%%time\n",
    "## alle\n",
    "# 33 min\n",
    "X = pd.DataFrame(preprocessing.scale(X))\n",
    "\n",
    "X.head()"
   ]
  },
  {
   "cell_type": "code",
   "execution_count": null,
   "metadata": {
    "scrolled": true
   },
   "outputs": [],
   "source": [
    "X = X.values\n",
    "X"
   ]
  },
  {
   "cell_type": "markdown",
   "metadata": {},
   "source": [
    "# Split data into training and testing"
   ]
  },
  {
   "cell_type": "code",
   "execution_count": null,
   "metadata": {},
   "outputs": [],
   "source": [
    "%%time\n",
    "# 17,38 min\n",
    "X_train, X_test, y_train, y_test = train_test_split(X, y)"
   ]
  },
  {
   "cell_type": "code",
   "execution_count": null,
   "metadata": {},
   "outputs": [],
   "source": []
  },
  {
   "cell_type": "code",
   "execution_count": null,
   "metadata": {},
   "outputs": [],
   "source": [
    "X_train.shape"
   ]
  },
  {
   "cell_type": "markdown",
   "metadata": {},
   "source": [
    "## Results\n",
    "\n",
    "* age all\n",
    "* ICD9_CODES: proc, dis, fact, ext\n",
    "\n",
    "\n",
    "1. Categorical and continious\n",
    "\n",
    "|LOS   | MAPPING                   | TEST_SIZE | SCALE | FUNC | SOLVER | HIDDEN | RES  | Learning Rate |\n",
    "|------|---------------------------|-----------|-------|------|--------|--------|------|---------------|\n",
    "| <10  | <1.0, <5.0, <200.0        | 0.4       | CONT  | LOGI | SGD    | 10,15  | 0.67 |    Default    |\n",
    "| <10  | <1.0, <3.0, <200.0        | 0.4       | CONT  | LOGI | SGD    | 10,15  | 0.45 |    Default    |\n",
    "| ALL  | <1.0, <10.0, <200.0       | 0.4       | CONT  | LOGI | SGD    | 10,15  | 0.72 |    Default    |\n",
    "| ALL  | <1.0, <10.0, <200.0       | 0.4       | ALL   | LOGI | SGD    | 10,15  | 0.83 |    Default    |\n",
    "| ALL  | <1.0, <10.0, <200.0       | 0.4       | NONE  | RELU | SGD    | 40,90  | 0.73 |    Default    |\n",
    "\n",
    "\n",
    "2. Continiues (only)\n",
    "\n",
    "|LOS   | MAPPING                   | TEST_SIZE | SCALE | FUNC | SOLVER | HIDDEN | RES  | Learning Rate |\n",
    "|------|---------------------------|-----------|-------|------|--------|--------|------|---------------|\n",
    "| ALL  | <1.0, <10.0, <200.0       | 0.4       | CONT  | LOGI | SGD    | 10,15  | 0.72 |    Default    |\n",
    "\n",
    "\n",
    "3. Categorical (only)\n",
    "\n",
    "|LOS   | MAPPING                   | TEST_SIZE | SCALE | FUNC | SOLVER | HIDDEN | RES  | Learning Rate |\n",
    "|------|---------------------------|-----------|-------|------|--------|--------|------|---------------|\n",
    "| ALL  | <1.0, <10.0, <200.0       | 0.4       | NONE  | LOGI | SGD    | 10,15  | 0.72 |    Default    |\n",
    "| ALL  | <1.0, <10.0, <200.0       | 0.4       | NONE  | RELU | SGD    | 10,15  | 0.84 |    Default    |\n",
    "| ALL  | <1.0, <10.0, <200.0       | 0.4       | NONE  | RELU | SGD    | 40,90  | 0.87 |    Default    |\n",
    "| ALL  | <1.0, <10.0, <200.0       | 0.4       | CONT  | RELU | SGD    | 10,15  | 0.81 |    Default    |\n",
    "| <5   | NONE                      | 0.4       | NONE  | RELU | SGD    | 10,15  | 0.59 |    Default    |\n",
    "\n",
    "## Post new values\n",
    "\n",
    "* age none\n",
    "* ICD9_CODES: symp, dis, fact, ext - repeated for first combination\n",
    "\n",
    "\n",
    "3. Categorical (only)\n",
    "\n",
    "|LOS   | MAPPING                   | TEST_SIZE | SCALE | FUNC | SOLVER | HIDDEN | RES  | Learning Rate |\n",
    "|------|---------------------------|-----------|-------|------|--------|--------|------|---------------|\n",
    "| ALL  | <1.0, <10.0, <200.0       | 0.4       | NONE  | LOGI | SGD    | 10,15  | 0.72 |    Default    |\n",
    "| ALL  | <1.0, <10.0, <200.0       | 0.4       | NONE  | RELU | SGD    | 10,15  | 0.79 |    Default    |\n",
    "\n",
    "4. Encoded Categorical (only)\n",
    "\n",
    "|LOS   | MAPPING                   | TEST_SIZE | SCALE | FUNC | SOLVER | HIDDEN | RES  | Learning Rate |\n",
    "|------|---------------------------|-----------|-------|------|--------|--------|------|---------------|\n",
    "| ALL  | <1.0, <10.0, <200.0       | 0.4       | NONE  | RELU | SGD    | 10,15  | 0.72 |    Default    |\n",
    "| ALL  | <1.0, <10.0, <200.0       | 0.4       | CAT   | RELU | SGD    | 10,15  | 0.72 |    Default    |\n",
    "| ALL  | <1.0, <10.0, <200.0       | 0.4       | CAT   | LOGI | SGD    | 10,15  | 0.72 |    Default    |\n",
    "\n",
    "## Post supervisor explenation - change to max 100 iterations\n",
    "\n",
    "* age none\n",
    "* ICD9_CODES: symp, dis, fact, ext - all combination for each diagnose\n",
    "\n",
    "\n",
    "3. Categorical (only)\n",
    "\n",
    "|LOS   | MAPPING                   | TEST_SIZE | SCALE | FUNC | SOLVER | HIDDEN | RES  | Learning Rate |\n",
    "|------|---------------------------|-----------|-------|------|--------|--------|------|---------------|\n",
    "| ALL  | <1.0, <10.0, <200.0       | 0.4       | NONE  | RELU | ADAM   | 10,15  | 0.80 |    Default    |\n",
    "\n",
    "3. Categorical (only) [Encoded]\n",
    "\n",
    "|LOS   | MAPPING                   | TEST_SIZE | SCALE | FUNC | SOLVER | HIDDEN | RES  | Learning Rate |\n",
    "|------|---------------------------|-----------|-------|------|--------|--------|------|---------------|\n",
    "| ALL  | <1.0, <10.0, <200.0       | 0.4       | NONE  | LOGI | SGD    | 10,15  | 0.71 |    Default    |\n",
    "| ALL  | <1.0, <10.0, <200.0       | 0.4       | NONE  | RELU | SGD    | 10,15  | 0.71 |    Default    |\n",
    "| ALL  | <1.0, <10.0, <200.0       | 0.4       | NONE  | RELU | ADAM   | 10,15  | 0.71 |    Default    |\n",
    "| ALL  | <1.0, <10.0, <200.0       | 0.4       | NONE  | RELU | ADAM   | 10,15  | 0.71 |    0.001      |\n",
    "| ALL  | <1.0, <10.0, <200.0       | 0.4       | NONE  | RELU | ADAM   | 10,15  | 0.71 |    0.01       |\n",
    "| ALL  | <1.0, <10.0, <200.0       | 0.4       | NONE  | RELU | ADAM   | 10,15  | 0.71 |    0.1        |\n",
    "| ALL  | <1.0, <10.0, <200.0       | 0.4       | NONE  | RELU | ADAM   | 10,15  | 0.71 |    1.0        |\n",
    "| ALL  | <1.0, <10.0, <200.0       | 0.4       | NONE  | RELU | ADAM   | 10,15  | 0.71 |    2.0        |\n",
    "| ALL  | <1.0, <10.0, <200.0       | 0.4       | NONE  | RELU | ADAM   | 10,15  | 0.71 |    0.00001    |\n",
    "| ALL  | <1.0, <10.0, <200.0       | 0.4       | NONE  | RELU | ADAM   | 10,15  | 0.71 |    0.000001   |\n",
    "| ALL  | <1.0, <10.0, <200.0       | 0.4       | NONE  | LOGI | SGD    | 10,15  | 0.71 |    0.01       |"
   ]
  },
  {
   "cell_type": "markdown",
   "metadata": {},
   "source": [
    "# NN"
   ]
  },
  {
   "cell_type": "code",
   "execution_count": null,
   "metadata": {},
   "outputs": [],
   "source": [
    "#activation \n",
    "# - sigmoid = logistic\n",
    "# - relu\n",
    "# - tanh\n",
    "\n",
    "#solver\n",
    "# sgd - stochastic gradiant decent\n",
    "# adam\n",
    "\n",
    "#hidden_layer_sieze\n",
    "# - 45,90 take some time -- 16min\n",
    "# - 10,15 lesser time -- 13min\n",
    "# - 100, 150 -- 48min\n",
    "# - 1000, 1500 time -- 2h 4min\n",
    "\n",
    "# hidden_layer_sizes=(10,15)\n",
    "\n",
    "#parameter_space = {\n",
    "#    'hidden_layer_sizes': [(50,50,50), (50,100,50), (100,)],\n",
    "#    'activation': ['tanh', 'relu'],\n",
    "#    'solver': ['sgd', 'adam'],\n",
    "#    'alpha': [0.0001, 0.05],\n",
    "#    'learning_rate': ['constant','adaptive'],\n",
    "#}\n",
    "\n",
    "#nn=MLPClassifier(activation='relu', solver='adam', verbose=1, max_iter=100, alpha=0.001)\n",
    "nn=MLPClassifier(verbose=1, hidden_layer_sizes=(10,15))"
   ]
  },
  {
   "cell_type": "code",
   "execution_count": null,
   "metadata": {
    "scrolled": true
   },
   "outputs": [],
   "source": [
    "%%time\n",
    "## 1h 14, 21 min\n",
    "nn.fit(X_train, y_train)"
   ]
  },
  {
   "cell_type": "code",
   "execution_count": null,
   "metadata": {},
   "outputs": [],
   "source": [
    "pred=nn.predict(X_test)\n",
    "\n",
    "count = 0\n",
    "\n",
    "for i in range(len(y_test)):\n",
    "    if pred[i]==y_test[i]:\n",
    "        count += 1\n",
    "\n",
    "count/len(pred)"
   ]
  },
  {
   "cell_type": "markdown",
   "metadata": {},
   "source": [
    "## Other algorithmes"
   ]
  },
  {
   "cell_type": "code",
   "execution_count": null,
   "metadata": {},
   "outputs": [],
   "source": [
    "clf = svm.SVR(kernel=\"linear\")\n",
    "clf.fit(X_train, y_train)"
   ]
  },
  {
   "cell_type": "code",
   "execution_count": null,
   "metadata": {},
   "outputs": [],
   "source": [
    "clf.score(X_test, y_test)"
   ]
  },
  {
   "cell_type": "markdown",
   "metadata": {},
   "source": [
    "# Neural Network"
   ]
  },
  {
   "cell_type": "code",
   "execution_count": null,
   "metadata": {},
   "outputs": [],
   "source": [
    "# normalize??\n",
    "\n"
   ]
  },
  {
   "cell_type": "code",
   "execution_count": null,
   "metadata": {},
   "outputs": [],
   "source": [
    "# split into train, valid, test\n",
    "\n",
    "# features capital x, and lowercase y is labels"
   ]
  }
 ],
 "metadata": {
  "kernelspec": {
   "display_name": "Python 3",
   "language": "python",
   "name": "python3"
  },
  "language_info": {
   "codemirror_mode": {
    "name": "ipython",
    "version": 3
   },
   "file_extension": ".py",
   "mimetype": "text/x-python",
   "name": "python",
   "nbconvert_exporter": "python",
   "pygments_lexer": "ipython3",
   "version": "3.7.0"
  }
 },
 "nbformat": 4,
 "nbformat_minor": 2
}
