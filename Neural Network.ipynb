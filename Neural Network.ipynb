{
 "cells": [
  {
   "cell_type": "code",
   "execution_count": null,
   "metadata": {},
   "outputs": [],
   "source": [
    "import pandas as pd\n",
    "import numpy as np\n",
    "from matplotlib import pyplot as plt\n",
    "import sklearn\n",
    "from sklearn import preprocessing, svm\n",
    "from sklearn.neural_network import MLPClassifier\n",
    "from sklearn.model_selection import train_test_split\n",
    "\n",
    "# for jupyter notebook\n",
    "pd.options.mode.chained_assignment = None  # default='warn'"
   ]
  },
  {
   "cell_type": "code",
   "execution_count": null,
   "metadata": {},
   "outputs": [],
   "source": [
    "# read in features\n",
    "\n",
    "df = pd.read_csv('/home/sohaib/FEATURES.csv')\n",
    "df = df.dropna(axis=0)"
   ]
  },
  {
   "cell_type": "code",
   "execution_count": null,
   "metadata": {},
   "outputs": [],
   "source": [
    "df = df.drop(['HADM_ID'], axis=1)"
   ]
  },
  {
   "cell_type": "markdown",
   "metadata": {},
   "source": [
    "# Categorical values\n",
    "\n",
    "convert categorical values into one-hot-encoded vectors"
   ]
  },
  {
   "cell_type": "code",
   "execution_count": null,
   "metadata": {},
   "outputs": [],
   "source": [
    "cat_value = ['DBSOURCE', 'FIRST_CAREUNIT' ,'ADMISSION_TYPE', 'ADMISSION_LOCATION', 'INSURANCE', 'ICD9_CODE_x', 'GENDER', 'SEASON', 'ICD9_CODE_y']"
   ]
  },
  {
   "cell_type": "code",
   "execution_count": null,
   "metadata": {},
   "outputs": [],
   "source": [
    "target = 'LOS'"
   ]
  },
  {
   "cell_type": "code",
   "execution_count": null,
   "metadata": {},
   "outputs": [],
   "source": [
    "cont_values = ['HeartRate', 'sysBP', 'diasBP', 'oxygen_met', 'respRate', 'gluc', 'AGE']"
   ]
  },
  {
   "cell_type": "code",
   "execution_count": null,
   "metadata": {},
   "outputs": [],
   "source": [
    "# give every category a number\n",
    "# df['ADMISSION_TYPE'] = df['ADMISSION_TYPE'].astype('category').cat.codes\n",
    "\n",
    "for cat in cat_value:\n",
    "    # give each category a one-hot-encoded vector\n",
    "    df = df.join(pd.get_dummies(df[cat], prefix=cat + \"_\"))"
   ]
  },
  {
   "cell_type": "code",
   "execution_count": null,
   "metadata": {
    "scrolled": true
   },
   "outputs": [],
   "source": [
    "df"
   ]
  },
  {
   "cell_type": "code",
   "execution_count": null,
   "metadata": {},
   "outputs": [],
   "source": [
    "# remove columns\n",
    "df = df.drop(cat_value, axis = 1)\n",
    "\n",
    "df.set_index('ICUSTAY_ID', inplace=True)"
   ]
  },
  {
   "cell_type": "code",
   "execution_count": null,
   "metadata": {
    "scrolled": true
   },
   "outputs": [],
   "source": [
    "#df = df[df['LOS'] < 15]\n",
    "\n",
    "df[df['AGE'] > 15]"
   ]
  },
  {
   "cell_type": "code",
   "execution_count": null,
   "metadata": {},
   "outputs": [],
   "source": [
    "import seaborn as sns\n",
    "print(\"Information about number of days in ICU \\n\")\n",
    "\n",
    "# print median, max and min\n",
    "median =  df['LOS'].median()\n",
    "max_val =  df['LOS'].max()\n",
    "min_val =  df['LOS'].min()\n",
    "print(\"Median: \", median)\n",
    "print(\"Max: \", max_val)\n",
    "print(\"Min: \", min_val)\n",
    "\n",
    "# plot diagram\n",
    "x = df['LOS'].dropna(axis=0)\n",
    "x = x.values\n",
    "\n",
    "ax = sns.distplot(x)\n",
    "ax"
   ]
  },
  {
   "cell_type": "code",
   "execution_count": null,
   "metadata": {},
   "outputs": [],
   "source": [
    "x = df['diasBP']\n",
    "y = df['LOS']\n",
    "\n",
    "\n",
    "plt.scatter(x,y, label=\"AGE\", color='b')\n",
    "\n",
    "plt.xlabel('AGE')\n",
    "plt.ylabel('LOS')\n",
    "\n",
    "plt.title(\"Age distrubution\")\n",
    "\n",
    "# only needed if more plots are in one plt\n",
    "plt.legend()\n",
    "plt.show()"
   ]
  },
  {
   "cell_type": "code",
   "execution_count": null,
   "metadata": {},
   "outputs": [],
   "source": [
    "def maplos(x):\n",
    "    if x < 1.0: # short stay\n",
    "        return 0\n",
    "    if x < 2.5: # middel stay\n",
    "        return 2\n",
    "    if x < 200.0: # long stay\n",
    "        return 3\n",
    "\n",
    "df['LOS'] = df['LOS'].map(lambda x: maplos(x))"
   ]
  },
  {
   "cell_type": "code",
   "execution_count": null,
   "metadata": {
    "scrolled": true
   },
   "outputs": [],
   "source": [
    "df"
   ]
  },
  {
   "cell_type": "markdown",
   "metadata": {},
   "source": [
    "# shuffle"
   ]
  },
  {
   "cell_type": "code",
   "execution_count": null,
   "metadata": {},
   "outputs": [],
   "source": []
  },
  {
   "cell_type": "code",
   "execution_count": null,
   "metadata": {},
   "outputs": [],
   "source": []
  },
  {
   "cell_type": "code",
   "execution_count": null,
   "metadata": {
    "scrolled": true
   },
   "outputs": [],
   "source": [
    "# shuffle\n",
    "\n",
    "## pandas can shuffle to by index, but sentdex says thats ugly\n",
    "df = sklearn.utils.shuffle(df)\n",
    "\n",
    "df"
   ]
  },
  {
   "cell_type": "code",
   "execution_count": null,
   "metadata": {},
   "outputs": [],
   "source": []
  },
  {
   "cell_type": "code",
   "execution_count": null,
   "metadata": {},
   "outputs": [],
   "source": [
    "y = df[target].values\n",
    "X = df.drop(target, axis=1).values"
   ]
  },
  {
   "cell_type": "code",
   "execution_count": null,
   "metadata": {
    "scrolled": true
   },
   "outputs": [],
   "source": [
    "#co = X[[cont for cont in cont_values]]\n",
    "#co = preprocessing.scale(co)\n",
    "#X = X.join(co)\n",
    "\n",
    "#X = X.drop(cont_values, axis = 1).values\n",
    "#X = np.concatenate((X, co), axis=1)\n",
    "\n",
    "# scale\n",
    "X = preprocessing.scale(X)\n",
    "X"
   ]
  },
  {
   "cell_type": "code",
   "execution_count": null,
   "metadata": {},
   "outputs": [],
   "source": []
  },
  {
   "cell_type": "code",
   "execution_count": null,
   "metadata": {},
   "outputs": [],
   "source": [
    "X"
   ]
  },
  {
   "cell_type": "code",
   "execution_count": null,
   "metadata": {},
   "outputs": [],
   "source": [
    "y=y.astype('int')\n",
    "\n",
    "y"
   ]
  },
  {
   "cell_type": "markdown",
   "metadata": {},
   "source": [
    "# Split data"
   ]
  },
  {
   "cell_type": "code",
   "execution_count": null,
   "metadata": {},
   "outputs": [],
   "source": [
    "%%time\n",
    "X_train, X_test, y_train, y_test = train_test_split(X, y, test_size=0.2, random_state=4)"
   ]
  },
  {
   "cell_type": "code",
   "execution_count": null,
   "metadata": {},
   "outputs": [],
   "source": [
    "test_size = 400\n",
    "\n",
    "X_train = X[:-test_size]\n",
    "y_train = y[:-test_size]\n",
    "\n",
    "X_test = X[-test_size:]\n",
    "y_test = y[-test_size:]"
   ]
  },
  {
   "cell_type": "code",
   "execution_count": null,
   "metadata": {},
   "outputs": [],
   "source": [
    "X_train.shape"
   ]
  },
  {
   "cell_type": "markdown",
   "metadata": {},
   "source": [
    "# NN"
   ]
  },
  {
   "cell_type": "code",
   "execution_count": null,
   "metadata": {},
   "outputs": [],
   "source": [
    "#activation \n",
    "# - sigmoid = logistic\n",
    "# - relu\n",
    "# - tanh\n",
    "\n",
    "#solver\n",
    "# gradient decent - sgd\n",
    "\n",
    "#hidden_layer_sieze\n",
    "# - 45,90 take some time -- 16min\n",
    "# - 10,15 lesser time -- 13min\n",
    "# - 100, 150 -- 48min\n",
    "# - 1000, 1500 time -- 2h 4min\n",
    "\n",
    "nn=MLPClassifier(activation='logistic', solver='sgd', hidden_layer_sizes=(10,15), verbose=1)"
   ]
  },
  {
   "cell_type": "code",
   "execution_count": null,
   "metadata": {
    "scrolled": true
   },
   "outputs": [],
   "source": [
    "%%time\n",
    "nn.fit(X_train, y_train)"
   ]
  },
  {
   "cell_type": "code",
   "execution_count": null,
   "metadata": {},
   "outputs": [],
   "source": [
    "pred=nn.predict(X_test)"
   ]
  },
  {
   "cell_type": "code",
   "execution_count": null,
   "metadata": {},
   "outputs": [],
   "source": [
    "count = 0"
   ]
  },
  {
   "cell_type": "code",
   "execution_count": null,
   "metadata": {},
   "outputs": [],
   "source": [
    "for i in range(len(y_test)):\n",
    "    if pred[i]==y_test[i]:\n",
    "        count += 1"
   ]
  },
  {
   "cell_type": "code",
   "execution_count": null,
   "metadata": {},
   "outputs": [],
   "source": [
    "x = df['diasBP']\n",
    "y = df['LOS']\n",
    "\n",
    "\n",
    "plt.scatter(x,y, label=\"AGE\", color='b')\n",
    "\n",
    "plt.xlabel('AGE')\n",
    "plt.ylabel('LOS')\n",
    "\n",
    "plt.title(\"Age distrubution\")\n",
    "\n",
    "# only needed if more plots are in one plt\n",
    "plt.legend()\n",
    "plt.show()"
   ]
  },
  {
   "cell_type": "code",
   "execution_count": null,
   "metadata": {},
   "outputs": [],
   "source": [
    "count"
   ]
  },
  {
   "cell_type": "code",
   "execution_count": null,
   "metadata": {},
   "outputs": [],
   "source": [
    "len(pred)"
   ]
  },
  {
   "cell_type": "code",
   "execution_count": null,
   "metadata": {},
   "outputs": [],
   "source": [
    "count/len(pred)"
   ]
  },
  {
   "cell_type": "markdown",
   "metadata": {},
   "source": [
    "## Other algorithmes"
   ]
  },
  {
   "cell_type": "code",
   "execution_count": null,
   "metadata": {},
   "outputs": [],
   "source": [
    "clf = svm.SVR(kernel=\"linear\")\n",
    "clf.fit(X_train, y_train)"
   ]
  },
  {
   "cell_type": "code",
   "execution_count": null,
   "metadata": {},
   "outputs": [],
   "source": [
    "clf.score(X_test, y_test)"
   ]
  },
  {
   "cell_type": "markdown",
   "metadata": {},
   "source": [
    "# Neural Network"
   ]
  },
  {
   "cell_type": "code",
   "execution_count": null,
   "metadata": {},
   "outputs": [],
   "source": [
    "# normalize??\n",
    "\n"
   ]
  },
  {
   "cell_type": "code",
   "execution_count": null,
   "metadata": {},
   "outputs": [],
   "source": [
    "# split into train, valid, test\n",
    "\n",
    "# features capital x, and lowercase y is labels"
   ]
  }
 ],
 "metadata": {
  "kernelspec": {
   "display_name": "Python 3",
   "language": "python",
   "name": "python3"
  },
  "language_info": {
   "codemirror_mode": {
    "name": "ipython",
    "version": 3
   },
   "file_extension": ".py",
   "mimetype": "text/x-python",
   "name": "python",
   "nbconvert_exporter": "python",
   "pygments_lexer": "ipython3",
   "version": "3.7.0"
  }
 },
 "nbformat": 4,
 "nbformat_minor": 2
}
