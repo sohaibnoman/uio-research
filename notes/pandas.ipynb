{
 "cells": [
  {
   "cell_type": "code",
   "execution_count": null,
   "metadata": {},
   "outputs": [],
   "source": [
    "import pandas as pd\n",
    "\n",
    "df = pd.read_csv(\"mimic-code/CALLOUT.csv\")\n",
    "# caregivers_df = pd.read_csv(\"mimic-code/CAREGIVERS.csv\", encoding=\"latin\")\n",
    "# if encoding=\"utf-8\" fails\n",
    "# can then save the dataset to not have this problem again\n",
    "# df.to_csv(\"name of new with path.csv\", enccoding=\"utf-8\"), examples of pandas to convert things\n",
    "\n",
    "df.tail(50)"
   ]
  },
  {
   "cell_type": "code",
   "execution_count": null,
   "metadata": {},
   "outputs": [],
   "source": [
    "df.head(10)"
   ]
  },
  {
   "cell_type": "code",
   "execution_count": null,
   "metadata": {},
   "outputs": [],
   "source": [
    "df[\"ROW_ID\"].head()"
   ]
  },
  {
   "cell_type": "code",
   "execution_count": null,
   "metadata": {},
   "outputs": [],
   "source": [
    "df.ROW_ID.head()"
   ]
  },
  {
   "cell_type": "code",
   "execution_count": null,
   "metadata": {},
   "outputs": [],
   "source": [
    "curr_55_df =  df[ df['CURR_WARDID'] == 55.0 ]\n",
    "    \n",
    "curr_55_df.head()"
   ]
  },
  {
   "cell_type": "code",
   "execution_count": null,
   "metadata": {},
   "outputs": [],
   "source": [
    "curr_55_df.index"
   ]
  },
  {
   "cell_type": "code",
   "execution_count": null,
   "metadata": {},
   "outputs": [],
   "source": [
    " curr_55_df.set_index(\"ROW_ID\").head()"
   ]
  },
  {
   "cell_type": "markdown",
   "metadata": {},
   "source": [
    "# need new data frames\n",
    "\n",
    "common mistake is to think that when you change a datafram the changes are made to that data fram but in reality pandas returns a new data frame and the old one is stored as it was. we lost our changes we did in the last cell, just look at the cell below to save htem wee need to dave the return from our changes in a datafram ot the same to replce."
   ]
  },
  {
   "cell_type": "code",
   "execution_count": null,
   "metadata": {},
   "outputs": [],
   "source": [
    "curr_55_df.head() "
   ]
  },
  {
   "cell_type": "code",
   "execution_count": null,
   "metadata": {},
   "outputs": [],
   "source": [
    "curr_55_df = curr_55_df.set_index(\"ROW_ID\")\n",
    "# another way to do it is\n",
    "# curr_55_df.set_index(\"Date\", inplace=true)\n",
    "\n",
    "curr_55_df.head()"
   ]
  },
  {
   "cell_type": "code",
   "execution_count": null,
   "metadata": {},
   "outputs": [],
   "source": [
    "curr_55_df.plot()"
   ]
  },
  {
   "cell_type": "code",
   "execution_count": null,
   "metadata": {},
   "outputs": [],
   "source": [
    "curr_55_df[\"SUBMIT_WARDID\"].plot()"
   ]
  },
  {
   "cell_type": "markdown",
   "metadata": {},
   "source": [
    "# Date\n",
    "\n",
    "if you have date want to convert it to date by\n",
    "```python\n",
    "df['date'] = pd.to_datetime[df['date']]"
   ]
  },
  {
   "cell_type": "code",
   "execution_count": null,
   "metadata": {},
   "outputs": [],
   "source": [
    "# smoot thing out, think rolling takes first 25 and make all of them to the mean \n",
    "# then tekes next 25 and do the same\n",
    "\n",
    "curr_55_df['SUBMIT_WARDID'].rolling(25).mean().plot()"
   ]
  },
  {
   "cell_type": "markdown",
   "metadata": {},
   "source": [
    "# TIPZZZ\n",
    "\n",
    "make dates in propar order or numbers for index\n",
    "should happen before rolling\n",
    "\n",
    "```python\n",
    "curr_55_df.sort_index(inplace=True)\n",
    "```\n",
    "\n",
    "to make new colums you can use\n",
    "```python\n",
    "curr_55_df['new_name'] = curr_55_df['SUBMIT_WARDID'].rolling(25).mean().plot()\n",
    "```\n",
    "\n",
    "For fropping rows which have NaN values we use\n",
    "```python\n",
    "curr_55_df.dropna()\n",
    "```\n",
    "\n",
    "to remove warining based on copy\n",
    "```python\n",
    "curr_55_df = df.capoy()[ df[\"noe\"] == noe ]\n",
    "```"
   ]
  },
  {
   "cell_type": "code",
   "execution_count": null,
   "metadata": {},
   "outputs": [],
   "source": [
    "# pandas store colums as array and they can be iterated over as in\n",
    "\n",
    "df.values"
   ]
  },
  {
   "cell_type": "code",
   "execution_count": null,
   "metadata": {},
   "outputs": [],
   "source": [
    "# to iterate over a list we can make the values into a list and iterate over it\n",
    "list(set(df['SUBMIT_WARDID'].values.tolist()))"
   ]
  },
  {
   "cell_type": "code",
   "execution_count": null,
   "metadata": {},
   "outputs": [],
   "source": [
    "# simplier way, simpler way in pandas then python READ THE DOCSS!!!!!\n",
    "# aldo pandas uses c++ you use python which is slow\n",
    "df['SUBMIT_WARDID'].unique()"
   ]
  },
  {
   "cell_type": "markdown",
   "metadata": {},
   "source": [
    "# restructure the datafram\n",
    "\n",
    "now we want every categori underneath a set to be colums and values to the rows."
   ]
  },
  {
   "cell_type": "code",
   "execution_count": null,
   "metadata": {},
   "outputs": [],
   "source": [
    "# if there are multiple values of same number in the index it will explode ram\n",
    "\n",
    "graph_df = pd.DataFrame()\n",
    "\n",
    "for s_ward in df['SUBMIT_WARDID'].unique():\n",
    "    print(s_ward)\n",
    "    s_ward_df = df.copy()[df['SUBMIT_WARDID'] == s_ward]\n",
    "    s_ward_df.set_index(\"ROW_ID\", inplace=True)\n",
    "    \n",
    "    s_ward_df[f'{s_ward}_new_name'] = s_ward_df['SUBMIT_WARDID'].rolling(25).mean()\n",
    "    \n",
    "    if graph_df.empty:\n",
    "        # if the brackets inside was not there it would return a series since they are there we return a dataframe\n",
    "        graph_df = s_ward_df[[f'{s_ward}_new_name']]\n",
    "    else:\n",
    "        graph_df =   graph_df.join(s_ward_df[f'{s_ward}_new_name']) \n",
    "        \n",
    "graph_df.tail()"
   ]
  },
  {
   "cell_type": "code",
   "execution_count": null,
   "metadata": {},
   "outputs": [],
   "source": [
    "graph_df.plot(figsize=(8,5))"
   ]
  },
  {
   "cell_type": "markdown",
   "metadata": {},
   "source": [
    "# how it re structure should be done in pandas\n",
    "\n",
    "## and grouping"
   ]
  },
  {
   "cell_type": "code",
   "execution_count": null,
   "metadata": {},
   "outputs": [],
   "source": [
    "# how it should done in pandas\n",
    "\n",
    "df.head()"
   ]
  },
  {
   "cell_type": "code",
   "execution_count": null,
   "metadata": {},
   "outputs": [],
   "source": [
    "# remove rows\n",
    "df = df[['ROW_ID', 'HADM_ID', 'SUBMIT_WARDID', 'CURR_CAREUNIT']]\n",
    "\n",
    "# groupby\n",
    "gb = df.groupby(\"CURR_CAREUNIT\")\n",
    "\n",
    "gb.get_group(\"MICU\").head()"
   ]
  },
  {
   "cell_type": "code",
   "execution_count": null,
   "metadata": {},
   "outputs": [],
   "source": [
    "# iterate over the groups\n",
    "\n",
    "panda_way = pd.DataFrame()\n",
    "\n",
    "# name is the gruop name, and group is the dataframe\n",
    "for name, group in gb:\n",
    "    if panda_way.empty:\n",
    "        panda_way = group.set_index(\"ROW_ID\")[[\"HADM_ID\"]].rename(columns={\"HADM_ID\":name})\n",
    "    else:\n",
    "        # joins on the same value since they dont share the index value here we get NaN\n",
    "        panda_way = panda_way.join(group.set_index(\"ROW_ID\")[[\"HADM_ID\"]].rename(columns={\"HADM_ID\":name}))\n",
    "                \n",
    "\n",
    "panda_way.head()"
   ]
  },
  {
   "cell_type": "code",
   "execution_count": null,
   "metadata": {},
   "outputs": [],
   "source": [
    "# info about the data\n",
    "\n",
    "panda_way.describe()"
   ]
  },
  {
   "cell_type": "code",
   "execution_count": null,
   "metadata": {},
   "outputs": [],
   "source": [
    "# show the correleation between state\n",
    "\n",
    "panda_way.corr().head"
   ]
  },
  {
   "cell_type": "markdown",
   "metadata": {},
   "source": [
    "# if nan accous can find out where by loactng similar values that give nan\n",
    "```python\n",
    "issue_df = df[df['low.2018']=0]\n",
    "```\n",
    "\n",
    "findinf unique instances\n",
    "```python\n",
    "isue_df['state'].unique\n",
    "```\n",
    "replacing wrong number 0 with NaN, and drop them with axis=1 it will drop a columsn if it hav a NaN, similar axis=0 means rows\n",
    "```python\n",
    "df.replace(0, np.NaN).dropna(axis=1)\n",
    "\n",
    "# then check is problem is solved\n",
    "for problem in issue_df['Sate'].unique():\n",
    "    if problem in min_wage_corr.columns:\n",
    "        print(\"we are missing something here\")\n",
    "        \n",
    "# chekc if data is missing info then later have it\n",
    "grouped_issue= issue_df.groupby(\"State\")\n",
    "\n",
    "grouped_issue.get_group(\"Alabama\").['low.2018'].sum()\n",
    " \n",
    "for state, data in groupped_issues:\n",
    "    if data['low.2018'].sum() != 0.0\n",
    "        print(\"We missed something\")\n",
    "\n",
    "```"
   ]
  },
  {
   "cell_type": "code",
   "execution_count": null,
   "metadata": {},
   "outputs": [],
   "source": [
    "# grapgh the data\n",
    "\n",
    "import matplotlib.pyplot as plt\n",
    "\n",
    "plt.matshow(panda_way)"
   ]
  },
  {
   "cell_type": "code",
   "execution_count": null,
   "metadata": {},
   "outputs": [],
   "source": [
    "import numpy as np"
   ]
  },
  {
   "cell_type": "code",
   "execution_count": null,
   "metadata": {},
   "outputs": [],
   "source": [
    "# ADMISSION\n",
    "df = pd.read_csv('/home/sohaib/mimic-iii-clinical-database-1.4/ADMISSIONS.csv.gz')\n",
    "\n",
    "# make colums containing date, into date type instead of str\n",
    "df['ADMITTIME'] = pd.to_datetime(df['ADMITTIME'])\n",
    "df['DISCHTIME'] = pd.to_datetime(df['DISCHTIME'])\n",
    "\n",
    "# set index\n",
    "df.set_index('HADM_ID', inplace=True)\n",
    "\n",
    "# excratct values needed\n",
    "# maybe need to check id they where in emergncy department?????????? \n",
    "df = df[[ 'ADMITTIME', 'DISCHTIME', 'ADMISSION_TYPE', 'ADMISSION_LOCATION', 'DIAGNOSIS']]\n",
    "\n",
    "# get number of days and convert to decimal\n",
    "df['DAYS_IN_ICU'] = df['DISCHTIME'] - df['ADMITTIME']\n",
    "df['DAYS_IN_ICU']=df['DAYS_IN_ICU']/np.timedelta64(1,'D')\n",
    "\n",
    "# some places the data contains negative number for days in ICU, remove these rows\n",
    "issue_df = df[ df['DAYS_IN_ICU'] < 0 ]\n",
    "\n",
    "df = df[ df['DAYS_IN_ICU'] >= 0 ]\n",
    "\n",
    "df"
   ]
  },
  {
   "cell_type": "code",
   "execution_count": null,
   "metadata": {},
   "outputs": [],
   "source": [
    "# CHARTEVENT/ CARE GIVER\n",
    "# joint them togheter to get lebel of caregiver, maybe usefull feature\n",
    "# multiple rows on same suject, meybe nt nececcary also, big file need abel to read\n",
    "\n",
    "chart_df = pd.read_csv('/home/sohaib/mimic-iii-clinical-database-1.4/CHARTEVENTS.csv.gz')\n",
    "care_df = pd.read_CSV('/home/sohaib/mimic-iii-clinical-database-1.4/CAREGIVERS.csv.gz')\n",
    "\n",
    "# set index\n",
    "chart_df.set_index('HADM_ID', inplace=True)\n",
    "care_df.set_index('HADM_ID', inplace=True)\n",
    "\n",
    "chart_df.head()"
   ]
  },
  {
   "cell_type": "code",
   "execution_count": null,
   "metadata": {},
   "outputs": [],
   "source": [
    "# CPTEVENTS\n",
    "# shoudl a take with precedures done on a patient or just predict based on pre-information\n",
    "cpt_df = pd.read_csv('/home/sohaib/mimic-iii-clinical-database-1.4/CPTEVENTS.csv.gz')\n",
    "\n",
    "# should be for ICU only\n",
    "# --code here\n",
    "\n",
    "cpt_df"
   ]
  },
  {
   "cell_type": "code",
   "execution_count": null,
   "metadata": {},
   "outputs": [],
   "source": [
    "# all D_ are dictionary with txt explaining codes used, could be useful for sematics\n",
    "\n",
    "d_cpt_df = pd.read_csv('/home/sohaib/mimic-iii-clinical-database-1.4/D_ICD')\n",
    "\n",
    "d_cpt_df\n",
    "\n",
    "# DATETIMEEVENTS\n",
    "# mayeb not so important"
   ]
  },
  {
   "cell_type": "markdown",
   "metadata": {},
   "source": [
    "# Sklearn"
   ]
  },
  {
   "cell_type": "code",
   "execution_count": null,
   "metadata": {},
   "outputs": [],
   "source": []
  }
 ],
 "metadata": {
  "kernelspec": {
   "display_name": "Python 3",
   "language": "python",
   "name": "python3"
  },
  "language_info": {
   "codemirror_mode": {
    "name": "ipython",
    "version": 3
   },
   "file_extension": ".py",
   "mimetype": "text/x-python",
   "name": "python",
   "nbconvert_exporter": "python",
   "pygments_lexer": "ipython3",
   "version": "3.7.0"
  }
 },
 "nbformat": 4,
 "nbformat_minor": 2
}
